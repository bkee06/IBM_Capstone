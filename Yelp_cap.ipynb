{
  "nbformat": 4,
  "nbformat_minor": 0,
  "metadata": {
    "colab": {
      "name": "Yelp_cap.ipynb",
      "provenance": [],
      "collapsed_sections": [],
      "mount_file_id": "1F9mCVT6bfEtE32w3sKylxwHLnDZllYdn",
      "authorship_tag": "ABX9TyO1GQ2zEGbWTWkRS++s9EWJ",
      "include_colab_link": true
    },
    "kernelspec": {
      "name": "python3",
      "display_name": "Python 3"
    },
    "language_info": {
      "name": "python"
    }
  },
  "cells": [
    {
      "cell_type": "markdown",
      "metadata": {
        "id": "view-in-github",
        "colab_type": "text"
      },
      "source": [
        "<a href=\"https://colab.research.google.com/github/bkee06/IBM_Capstone/blob/main/Yelp_cap.ipynb\" target=\"_parent\"><img src=\"https://colab.research.google.com/assets/colab-badge.svg\" alt=\"Open In Colab\"/></a>"
      ]
    },
    {
      "cell_type": "markdown",
      "metadata": {
        "id": "nZaPNXRZsckk"
      },
      "source": [
        "# IBM Data Science Capstone\n",
        "\n",
        "This notebook contains content related to the final capstone project for IBM Applied Data Science. \n",
        "\n",
        "*Written by B Kee.* "
      ]
    },
    {
      "cell_type": "markdown",
      "metadata": {
        "id": "cxB8Ui0VstzC"
      },
      "source": [
        "# Project Aim:\n",
        "\n",
        "# Datasets:\n",
        "\n",
        "# API's:\n",
        "\n"
      ]
    },
    {
      "cell_type": "code",
      "metadata": {
        "colab": {
          "base_uri": "https://localhost:8080/"
        },
        "id": "uLBE0Q_5g5uC",
        "outputId": "4622be6b-1e27-4d80-b192-77c1054ee685"
      },
      "source": [
        "# Import all appropriate and required Libraries for the project. \n",
        "\n",
        "import numpy as np # library to handle data in a vectorized manner\n",
        "\n",
        "import pandas as pd # library for data analsysis\n",
        "pd.set_option('display.max_columns', None)\n",
        "pd.set_option('display.max_rows', None)\n",
        "\n",
        "import json # library to handle JSON files\n",
        "\n",
        "#!conda install -c conda-forge geopy --yes # uncomment this line if you want to use conda rather then pip\n",
        "!pip install geopy\n",
        "from geopy.geocoders import Nominatim # convert an address into latitude and longitude values\n",
        "\n",
        "import requests # library to handle requests\n",
        "from pandas.io.json import json_normalize # tranform JSON file into a pandas dataframe\n",
        "\n",
        "# Matplotlib and associated plotting modules\n",
        "import matplotlib.cm as cm\n",
        "import matplotlib.colors as colors\n",
        "import matplotlib.pyplot as plt # plotting library\n",
        "\n",
        "# backend for rendering plots within the browser\n",
        "%matplotlib inline \n",
        "\n",
        "# import k-means for clustering\n",
        "import sklearn\n",
        "from sklearn.cluster import KMeans\n",
        "\n",
        "#!conda install -c conda-forge folium=0.5.0 --yes # uncomment this line if you want to use conda rather then pip\n",
        "!pip install folium\n",
        "import folium # map rendering library\n",
        "\n",
        "!pip install yelpapi\n",
        "from yelpapi import YelpAPI\n",
        "import argparse\n",
        "from pprint import pprint\n",
        "\n",
        "#!conda install geopandas # uncomment this line if you want to use conda rather then pip\n",
        "!pip install geopandas\n",
        "import geopandas as gpd\n",
        "\n",
        "#!conda install -c conda-forge geopandas # uncomment this line if you want to use conda rather then pip\n",
        "!pip install fiona\n",
        "\n",
        "print('Libraries imported.')"
      ],
      "execution_count": 144,
      "outputs": [
        {
          "output_type": "stream",
          "text": [
            "Requirement already satisfied: geopy in /usr/local/lib/python3.7/dist-packages (1.17.0)\n",
            "Requirement already satisfied: geographiclib<2,>=1.49 in /usr/local/lib/python3.7/dist-packages (from geopy) (1.50)\n",
            "Requirement already satisfied: folium in /usr/local/lib/python3.7/dist-packages (0.8.3)\n",
            "Requirement already satisfied: six in /usr/local/lib/python3.7/dist-packages (from folium) (1.15.0)\n",
            "Requirement already satisfied: branca>=0.3.0 in /usr/local/lib/python3.7/dist-packages (from folium) (0.4.2)\n",
            "Requirement already satisfied: jinja2 in /usr/local/lib/python3.7/dist-packages (from folium) (2.11.3)\n",
            "Requirement already satisfied: requests in /usr/local/lib/python3.7/dist-packages (from folium) (2.23.0)\n",
            "Requirement already satisfied: numpy in /usr/local/lib/python3.7/dist-packages (from folium) (1.19.5)\n",
            "Requirement already satisfied: MarkupSafe>=0.23 in /usr/local/lib/python3.7/dist-packages (from jinja2->folium) (2.0.1)\n",
            "Requirement already satisfied: chardet<4,>=3.0.2 in /usr/local/lib/python3.7/dist-packages (from requests->folium) (3.0.4)\n",
            "Requirement already satisfied: certifi>=2017.4.17 in /usr/local/lib/python3.7/dist-packages (from requests->folium) (2020.12.5)\n",
            "Requirement already satisfied: idna<3,>=2.5 in /usr/local/lib/python3.7/dist-packages (from requests->folium) (2.10)\n",
            "Requirement already satisfied: urllib3!=1.25.0,!=1.25.1,<1.26,>=1.21.1 in /usr/local/lib/python3.7/dist-packages (from requests->folium) (1.24.3)\n",
            "Requirement already satisfied: yelpapi in /usr/local/lib/python3.7/dist-packages (2.4.0)\n",
            "Requirement already satisfied: requests in /usr/local/lib/python3.7/dist-packages (from yelpapi) (2.23.0)\n",
            "Requirement already satisfied: chardet<4,>=3.0.2 in /usr/local/lib/python3.7/dist-packages (from requests->yelpapi) (3.0.4)\n",
            "Requirement already satisfied: certifi>=2017.4.17 in /usr/local/lib/python3.7/dist-packages (from requests->yelpapi) (2020.12.5)\n",
            "Requirement already satisfied: urllib3!=1.25.0,!=1.25.1,<1.26,>=1.21.1 in /usr/local/lib/python3.7/dist-packages (from requests->yelpapi) (1.24.3)\n",
            "Requirement already satisfied: idna<3,>=2.5 in /usr/local/lib/python3.7/dist-packages (from requests->yelpapi) (2.10)\n",
            "Requirement already satisfied: geopandas in /usr/local/lib/python3.7/dist-packages (0.9.0)\n",
            "Requirement already satisfied: shapely>=1.6 in /usr/local/lib/python3.7/dist-packages (from geopandas) (1.7.1)\n",
            "Requirement already satisfied: fiona>=1.8 in /usr/local/lib/python3.7/dist-packages (from geopandas) (1.8.20)\n",
            "Requirement already satisfied: pandas>=0.24.0 in /usr/local/lib/python3.7/dist-packages (from geopandas) (1.1.5)\n",
            "Requirement already satisfied: pyproj>=2.2.0 in /usr/local/lib/python3.7/dist-packages (from geopandas) (3.1.0)\n",
            "Requirement already satisfied: setuptools in /usr/local/lib/python3.7/dist-packages (from fiona>=1.8->geopandas) (57.0.0)\n",
            "Requirement already satisfied: click-plugins>=1.0 in /usr/local/lib/python3.7/dist-packages (from fiona>=1.8->geopandas) (1.1.1)\n",
            "Requirement already satisfied: six>=1.7 in /usr/local/lib/python3.7/dist-packages (from fiona>=1.8->geopandas) (1.15.0)\n",
            "Requirement already satisfied: certifi in /usr/local/lib/python3.7/dist-packages (from fiona>=1.8->geopandas) (2020.12.5)\n",
            "Requirement already satisfied: cligj>=0.5 in /usr/local/lib/python3.7/dist-packages (from fiona>=1.8->geopandas) (0.7.2)\n",
            "Requirement already satisfied: click>=4.0 in /usr/local/lib/python3.7/dist-packages (from fiona>=1.8->geopandas) (7.1.2)\n",
            "Requirement already satisfied: munch in /usr/local/lib/python3.7/dist-packages (from fiona>=1.8->geopandas) (2.5.0)\n",
            "Requirement already satisfied: attrs>=17 in /usr/local/lib/python3.7/dist-packages (from fiona>=1.8->geopandas) (21.2.0)\n",
            "Requirement already satisfied: numpy>=1.15.4 in /usr/local/lib/python3.7/dist-packages (from pandas>=0.24.0->geopandas) (1.19.5)\n",
            "Requirement already satisfied: python-dateutil>=2.7.3 in /usr/local/lib/python3.7/dist-packages (from pandas>=0.24.0->geopandas) (2.8.1)\n",
            "Requirement already satisfied: pytz>=2017.2 in /usr/local/lib/python3.7/dist-packages (from pandas>=0.24.0->geopandas) (2018.9)\n",
            "Requirement already satisfied: fiona in /usr/local/lib/python3.7/dist-packages (1.8.20)\n",
            "Requirement already satisfied: munch in /usr/local/lib/python3.7/dist-packages (from fiona) (2.5.0)\n",
            "Requirement already satisfied: cligj>=0.5 in /usr/local/lib/python3.7/dist-packages (from fiona) (0.7.2)\n",
            "Requirement already satisfied: six>=1.7 in /usr/local/lib/python3.7/dist-packages (from fiona) (1.15.0)\n",
            "Requirement already satisfied: attrs>=17 in /usr/local/lib/python3.7/dist-packages (from fiona) (21.2.0)\n",
            "Requirement already satisfied: click>=4.0 in /usr/local/lib/python3.7/dist-packages (from fiona) (7.1.2)\n",
            "Requirement already satisfied: setuptools in /usr/local/lib/python3.7/dist-packages (from fiona) (57.0.0)\n",
            "Requirement already satisfied: certifi in /usr/local/lib/python3.7/dist-packages (from fiona) (2020.12.5)\n",
            "Requirement already satisfied: click-plugins>=1.0 in /usr/local/lib/python3.7/dist-packages (from fiona) (1.1.1)\n",
            "Libraries imported.\n"
          ],
          "name": "stdout"
        }
      ]
    },
    {
      "cell_type": "code",
      "metadata": {
        "id": "paiqGjp5jO0Q"
      },
      "source": [
        "yelp_api = YelpAPI('Rbb1rd7xyPjnDzJNyzrPIR1kna7yZTEGhV7vzX-gmR2fSt2LiFPcYjbDZUWL42mRPLcS3SSfjtOo36Uri6dQIQS6GAerhkCLcGupJVxumGMmxYO27royRAJaUxu_YHYx')"
      ],
      "execution_count": 3,
      "outputs": []
    },
    {
      "cell_type": "markdown",
      "metadata": {
        "id": "OGv0BevJrrkO"
      },
      "source": [
        "\n",
        "# Before we get started:\n",
        "\n",
        "Please run the small app below to find the highest rated Coffee shop near you! :)\n"
      ]
    },
    {
      "cell_type": "code",
      "metadata": {
        "colab": {
          "base_uri": "https://localhost:8080/"
        },
        "id": "yjJT8KBkiVl2",
        "outputId": "9824122c-b404-4508-b5ad-cdc9c6acc3fc"
      },
      "source": [
        "\n",
        "address = input(\"Firstly, before we get started please enter your location name (City, Country): \")\n",
        "\n",
        "geolocator = Nominatim(user_agent=\"my_agent\")\n",
        "location = geolocator.geocode(address)\n",
        "latitude1 = location.latitude\n",
        "longitude1 = location.longitude\n",
        "\n",
        "print(longitude1, latitude1)\n",
        "\n",
        "response = yelp_api.search_query(term='coffee', latitude = {latitude1}, longitude = {longitude1},radius = 3000, sort_by='rating', limit=1)\n",
        "\n",
        "shop_json = response['businesses']\n",
        "shop_df = pd.json_normalize(shop_json)\n",
        "shop_df = shop_df.rename(columns={'location.display_address': 'address'})\n",
        "\n",
        "shop = shop_df.name[0] \n",
        "shop_location = shop_df.address[0]\n",
        "\n",
        "print('You should get a coffee from: {} at {} before reading my Capstone Project! :)\\n'.format(shop, shop_location))\n"
      ],
      "execution_count": 96,
      "outputs": [
        {
          "output_type": "stream",
          "text": [
            "Firstly, before we get started please enter your location name (City, Country): canberra\n",
            "149.1012676 -35.2975906\n",
            "You should get a coffee from: The Cupping Room at ['Shop 1', '#1', 'Canberra Australia Capital Territory 2601', 'Australia'] before reading my Capstone Project! :)\n",
            "\n"
          ],
          "name": "stdout"
        }
      ]
    },
    {
      "cell_type": "markdown",
      "metadata": {
        "id": "72LwFI5qp9tf"
      },
      "source": [
        "# Import Data for Playground Location:\n",
        "\n",
        "A dataset is provided by the Australian Government of all playgrounds in the Australian Capital Territory. This can be accessed in a variety of formats. The shapefile will be used as it provides the easiest means to produce a single lat/long for each location. "
      ]
    },
    {
      "cell_type": "code",
      "metadata": {
        "colab": {
          "base_uri": "https://localhost:8080/",
          "height": 598
        },
        "id": "fpS5-hhOJEUo",
        "outputId": "4fb9301a-fb87-4ecf-e2b4-4a15ef0801e4"
      },
      "source": [
        "# Assign url's to the appropriate datasets. \n",
        "url_geojson = 'https://actmapi-actgov.opendata.arcgis.com/datasets/4bc2ae2b59eb40d99130f5b5b0505abf_7.geojson?outSR=%7B%22latestWkid%22%3A28355%2C%22wkid%22%3A28355%7D'\n",
        "url_csv = 'https://actmapi-actgov.opendata.arcgis.com/datasets/4bc2ae2b59eb40d99130f5b5b0505abf_7.csv?outSR=%7B%22latestWkid%22%3A28355%2C%22wkid%22%3A28355%7D'\n",
        "url_shape = 'https://actmapi-actgov.opendata.arcgis.com/datasets/6baffe02451d47baa1c13626b21f43a8_6.zip?outSR=%7B%22latestWkid%22%3A28355%2C%22wkid%22%3A28355%7D'\n",
        "\n",
        "\n",
        "#playground_df = gpd.read_file(url_geojson) # uncomment to import data as a geojson\n",
        "#playground_df = pd.read_csv(url_csv) # uncomment to import data as a csv\n",
        "\n",
        "#import shapefile into a data frame named pg_shape\n",
        "pg_shape = gpd.read_file(url_shape)\n",
        "\n",
        "# Check the data was imported by inspecting the head of the dataframe\n",
        "pg_shape.head()"
      ],
      "execution_count": 94,
      "outputs": [
        {
          "output_type": "execute_result",
          "data": {
            "text/html": [
              "<div>\n",
              "<style scoped>\n",
              "    .dataframe tbody tr th:only-of-type {\n",
              "        vertical-align: middle;\n",
              "    }\n",
              "\n",
              "    .dataframe tbody tr th {\n",
              "        vertical-align: top;\n",
              "    }\n",
              "\n",
              "    .dataframe thead th {\n",
              "        text-align: right;\n",
              "    }\n",
              "</style>\n",
              "<table border=\"1\" class=\"dataframe\">\n",
              "  <thead>\n",
              "    <tr style=\"text-align: right;\">\n",
              "      <th></th>\n",
              "      <th>PLAYAREA_I</th>\n",
              "      <th>IAMS_ID</th>\n",
              "      <th>PARENT_PLA</th>\n",
              "      <th>PARENT_P_1</th>\n",
              "      <th>DIVISION_N</th>\n",
              "      <th>UPGRADE_YE</th>\n",
              "      <th>EQUIPMENT_</th>\n",
              "      <th>SURFACE_TY</th>\n",
              "      <th>SURFACE_LO</th>\n",
              "      <th>SURFACE_AR</th>\n",
              "      <th>OTHER_SURF</th>\n",
              "      <th>OTHER_SU_1</th>\n",
              "      <th>OTHER_SU_2</th>\n",
              "      <th>EDGING_TYP</th>\n",
              "      <th>FENCING_TY</th>\n",
              "      <th>ACCESS_DES</th>\n",
              "      <th>ALL_ACCESS</th>\n",
              "      <th>AGE_RANGE_</th>\n",
              "      <th>AGE_RANG_1</th>\n",
              "      <th>AGE_RANG_2</th>\n",
              "      <th>AGE_RANG_3</th>\n",
              "      <th>BALANCE</th>\n",
              "      <th>BRIDGE</th>\n",
              "      <th>BAR</th>\n",
              "      <th>CLIMBER</th>\n",
              "      <th>CUBBY</th>\n",
              "      <th>COMBINATIO</th>\n",
              "      <th>FLYING_FOX</th>\n",
              "      <th>FORT</th>\n",
              "      <th>GOAL</th>\n",
              "      <th>PANAL</th>\n",
              "      <th>ROCKER</th>\n",
              "      <th>ROTATION</th>\n",
              "      <th>SCULPTURE</th>\n",
              "      <th>SLIDE</th>\n",
              "      <th>SOUND</th>\n",
              "      <th>SWING</th>\n",
              "      <th>TRACK_GLID</th>\n",
              "      <th>SAND_ELEME</th>\n",
              "      <th>EXERCISE_E</th>\n",
              "      <th>VEHICLE</th>\n",
              "      <th>TOTAL_STRU</th>\n",
              "      <th>COMMENTS</th>\n",
              "      <th>FEATURE_TY</th>\n",
              "      <th>OPERATIONA</th>\n",
              "      <th>PERIMETER</th>\n",
              "      <th>LATITUDE</th>\n",
              "      <th>LONGITUDE</th>\n",
              "      <th>FEATURE__1</th>\n",
              "      <th>CREATE_DAT</th>\n",
              "      <th>FEATURE_IN</th>\n",
              "      <th>OBJECTID</th>\n",
              "      <th>NATURAL_EL</th>\n",
              "      <th>PLAYGROUND</th>\n",
              "      <th>OBJECTID_1</th>\n",
              "      <th>geometry</th>\n",
              "    </tr>\n",
              "  </thead>\n",
              "  <tbody>\n",
              "    <tr>\n",
              "      <th>0</th>\n",
              "      <td>570</td>\n",
              "      <td>PLAR618</td>\n",
              "      <td>NEMERANG CRESCENT NEIGHBOURHOOD PLAYGROUND</td>\n",
              "      <td>PLGR502</td>\n",
              "      <td>WARAMANGA</td>\n",
              "      <td>2004.0</td>\n",
              "      <td>34000.0</td>\n",
              "      <td>TANBARK</td>\n",
              "      <td>NORTH EAST SUPPORT POST AT SLIDE</td>\n",
              "      <td>308</td>\n",
              "      <td>NONE</td>\n",
              "      <td>UNDERNEATH CRADLE SWING SEAT</td>\n",
              "      <td>NaN</td>\n",
              "      <td>TIMBER (SLEEPER)</td>\n",
              "      <td>NONE</td>\n",
              "      <td>NO FOOTPATH</td>\n",
              "      <td>NO</td>\n",
              "      <td>YES</td>\n",
              "      <td>YES</td>\n",
              "      <td>YES</td>\n",
              "      <td>YES</td>\n",
              "      <td>0</td>\n",
              "      <td>1</td>\n",
              "      <td>0</td>\n",
              "      <td>0</td>\n",
              "      <td>0</td>\n",
              "      <td>1</td>\n",
              "      <td>0</td>\n",
              "      <td>0</td>\n",
              "      <td>0</td>\n",
              "      <td>0</td>\n",
              "      <td>2</td>\n",
              "      <td>0</td>\n",
              "      <td>0</td>\n",
              "      <td>0</td>\n",
              "      <td>0</td>\n",
              "      <td>1</td>\n",
              "      <td>0</td>\n",
              "      <td>0</td>\n",
              "      <td>0</td>\n",
              "      <td>0</td>\n",
              "      <td>5</td>\n",
              "      <td>CONTAINS COMBINATION UNIT, POMMEL WALK BRIDGE,...</td>\n",
              "      <td>PLAY AREA</td>\n",
              "      <td>None</td>\n",
              "      <td>83.743705</td>\n",
              "      <td>None</td>\n",
              "      <td>None</td>\n",
              "      <td>20</td>\n",
              "      <td>2006-04-19</td>\n",
              "      <td>None</td>\n",
              "      <td>509</td>\n",
              "      <td>0</td>\n",
              "      <td>None</td>\n",
              "      <td>1</td>\n",
              "      <td>POLYGON ((687495.810 6085385.177, 687496.139 6...</td>\n",
              "    </tr>\n",
              "    <tr>\n",
              "      <th>1</th>\n",
              "      <td>88</td>\n",
              "      <td>PLAR291</td>\n",
              "      <td>TUGGERANONG TOWN DISTRICT PARK</td>\n",
              "      <td>PLGR242</td>\n",
              "      <td>GREENWAY</td>\n",
              "      <td>2000.0</td>\n",
              "      <td>20000.0</td>\n",
              "      <td>TANBARK</td>\n",
              "      <td>AT SOUTH EAST SUPPORT OF ROPE BRIDGE</td>\n",
              "      <td>189</td>\n",
              "      <td>NONE</td>\n",
              "      <td>AT CONVEX CLIMBER</td>\n",
              "      <td>NaN</td>\n",
              "      <td>CONCRETE</td>\n",
              "      <td>NONE</td>\n",
              "      <td>NO FOOTPATH</td>\n",
              "      <td>NO</td>\n",
              "      <td>NO</td>\n",
              "      <td>NO</td>\n",
              "      <td>NO</td>\n",
              "      <td>NO</td>\n",
              "      <td>0</td>\n",
              "      <td>0</td>\n",
              "      <td>0</td>\n",
              "      <td>0</td>\n",
              "      <td>0</td>\n",
              "      <td>1</td>\n",
              "      <td>0</td>\n",
              "      <td>0</td>\n",
              "      <td>0</td>\n",
              "      <td>0</td>\n",
              "      <td>0</td>\n",
              "      <td>0</td>\n",
              "      <td>0</td>\n",
              "      <td>0</td>\n",
              "      <td>0</td>\n",
              "      <td>0</td>\n",
              "      <td>0</td>\n",
              "      <td>0</td>\n",
              "      <td>0</td>\n",
              "      <td>0</td>\n",
              "      <td>1</td>\n",
              "      <td>CONTAINS SENIOR COMBINATION UNIT WITH WAVE CLI...</td>\n",
              "      <td>PLAY AREA</td>\n",
              "      <td>None</td>\n",
              "      <td>53.091511</td>\n",
              "      <td>None</td>\n",
              "      <td>None</td>\n",
              "      <td>20</td>\n",
              "      <td>2005-11-24</td>\n",
              "      <td>None</td>\n",
              "      <td>519</td>\n",
              "      <td>0</td>\n",
              "      <td>None</td>\n",
              "      <td>2</td>\n",
              "      <td>POLYGON ((687523.621 6079403.764, 687523.542 6...</td>\n",
              "    </tr>\n",
              "    <tr>\n",
              "      <th>2</th>\n",
              "      <td>84</td>\n",
              "      <td>PLAR286</td>\n",
              "      <td>LAKE TUGGERANONG CENTRAL COMMUNITY PLAYGROUND</td>\n",
              "      <td>PLGR240</td>\n",
              "      <td>GREENWAY</td>\n",
              "      <td>1985.0</td>\n",
              "      <td>93000.0</td>\n",
              "      <td>TANBARK</td>\n",
              "      <td>CENTRAL SPIRAL SLIDE SUPPORT POST</td>\n",
              "      <td>654</td>\n",
              "      <td>RUBBER</td>\n",
              "      <td>UNDER TYRE SWING SEAT</td>\n",
              "      <td>NaN</td>\n",
              "      <td>BRICK</td>\n",
              "      <td>NONE</td>\n",
              "      <td>GRAVEL FOOTPATH</td>\n",
              "      <td>NO</td>\n",
              "      <td>YES</td>\n",
              "      <td>YES</td>\n",
              "      <td>YES</td>\n",
              "      <td>YES</td>\n",
              "      <td>0</td>\n",
              "      <td>0</td>\n",
              "      <td>0</td>\n",
              "      <td>0</td>\n",
              "      <td>0</td>\n",
              "      <td>1</td>\n",
              "      <td>0</td>\n",
              "      <td>0</td>\n",
              "      <td>0</td>\n",
              "      <td>0</td>\n",
              "      <td>0</td>\n",
              "      <td>0</td>\n",
              "      <td>0</td>\n",
              "      <td>0</td>\n",
              "      <td>0</td>\n",
              "      <td>1</td>\n",
              "      <td>0</td>\n",
              "      <td>0</td>\n",
              "      <td>0</td>\n",
              "      <td>0</td>\n",
              "      <td>2</td>\n",
              "      <td>CONTAINS COMBINATION UNIT, CAROUSEL, ROCKERS A...</td>\n",
              "      <td>PLAY AREA</td>\n",
              "      <td>None</td>\n",
              "      <td>105.055264</td>\n",
              "      <td>None</td>\n",
              "      <td>None</td>\n",
              "      <td>20</td>\n",
              "      <td>2005-11-24</td>\n",
              "      <td>None</td>\n",
              "      <td>530</td>\n",
              "      <td>0</td>\n",
              "      <td>None</td>\n",
              "      <td>3</td>\n",
              "      <td>POLYGON ((688202.853 6080304.036, 688202.182 6...</td>\n",
              "    </tr>\n",
              "    <tr>\n",
              "      <th>3</th>\n",
              "      <td>574</td>\n",
              "      <td>PLAR628</td>\n",
              "      <td>WESTON PARK DISTRICT PLAYGROUND (EAST)</td>\n",
              "      <td>PLGR211</td>\n",
              "      <td>YARRALUMLA</td>\n",
              "      <td>2007.0</td>\n",
              "      <td>20000.0</td>\n",
              "      <td>TANBARK</td>\n",
              "      <td>BASE OF NORTH SUPPORT POST</td>\n",
              "      <td>374</td>\n",
              "      <td>NONE</td>\n",
              "      <td>UNDERNEATH NORTHEAST EDGE</td>\n",
              "      <td>NaN</td>\n",
              "      <td>CONCRETE</td>\n",
              "      <td>NONE</td>\n",
              "      <td>NO FOOTPATH</td>\n",
              "      <td>NO</td>\n",
              "      <td>NO</td>\n",
              "      <td>NO</td>\n",
              "      <td>NO</td>\n",
              "      <td>NO</td>\n",
              "      <td>0</td>\n",
              "      <td>0</td>\n",
              "      <td>0</td>\n",
              "      <td>1</td>\n",
              "      <td>0</td>\n",
              "      <td>0</td>\n",
              "      <td>0</td>\n",
              "      <td>0</td>\n",
              "      <td>0</td>\n",
              "      <td>0</td>\n",
              "      <td>0</td>\n",
              "      <td>0</td>\n",
              "      <td>0</td>\n",
              "      <td>0</td>\n",
              "      <td>0</td>\n",
              "      <td>0</td>\n",
              "      <td>0</td>\n",
              "      <td>0</td>\n",
              "      <td>0</td>\n",
              "      <td>0</td>\n",
              "      <td>1</td>\n",
              "      <td>CONTAINS SPACENET</td>\n",
              "      <td>PLAY AREA</td>\n",
              "      <td>None</td>\n",
              "      <td>69.832033</td>\n",
              "      <td>None</td>\n",
              "      <td>None</td>\n",
              "      <td>20</td>\n",
              "      <td>2008-03-03</td>\n",
              "      <td>None</td>\n",
              "      <td>539</td>\n",
              "      <td>0</td>\n",
              "      <td>None</td>\n",
              "      <td>4</td>\n",
              "      <td>POLYGON ((689979.075 6092608.438, 689979.557 6...</td>\n",
              "    </tr>\n",
              "    <tr>\n",
              "      <th>4</th>\n",
              "      <td>401</td>\n",
              "      <td>PLAR195</td>\n",
              "      <td>LYTTLETON CRESCENT NEIGHBOURHOOD PLAYGROUND</td>\n",
              "      <td>PLGR168</td>\n",
              "      <td>COOK</td>\n",
              "      <td>1985.0</td>\n",
              "      <td>8000.0</td>\n",
              "      <td>TANBARK</td>\n",
              "      <td>NORTH WEST SUPPORT POST OF SWING FRAME</td>\n",
              "      <td>167</td>\n",
              "      <td>NONE</td>\n",
              "      <td>UNDERNEATH EAST FLAT SWING SEAT</td>\n",
              "      <td>NaN</td>\n",
              "      <td>CONCRETE</td>\n",
              "      <td>NONE</td>\n",
              "      <td>NO FOOTPATH</td>\n",
              "      <td>NO</td>\n",
              "      <td>YES</td>\n",
              "      <td>YES</td>\n",
              "      <td>YES</td>\n",
              "      <td>YES</td>\n",
              "      <td>0</td>\n",
              "      <td>0</td>\n",
              "      <td>0</td>\n",
              "      <td>0</td>\n",
              "      <td>0</td>\n",
              "      <td>0</td>\n",
              "      <td>0</td>\n",
              "      <td>0</td>\n",
              "      <td>0</td>\n",
              "      <td>0</td>\n",
              "      <td>0</td>\n",
              "      <td>0</td>\n",
              "      <td>0</td>\n",
              "      <td>0</td>\n",
              "      <td>0</td>\n",
              "      <td>1</td>\n",
              "      <td>0</td>\n",
              "      <td>0</td>\n",
              "      <td>0</td>\n",
              "      <td>0</td>\n",
              "      <td>1</td>\n",
              "      <td>CONTAINS SWING.</td>\n",
              "      <td>PLAY AREA</td>\n",
              "      <td>None</td>\n",
              "      <td>46.061747</td>\n",
              "      <td>None</td>\n",
              "      <td>None</td>\n",
              "      <td>20</td>\n",
              "      <td>2005-11-24</td>\n",
              "      <td>None</td>\n",
              "      <td>555</td>\n",
              "      <td>0</td>\n",
              "      <td>None</td>\n",
              "      <td>5</td>\n",
              "      <td>POLYGON ((687791.824 6096071.457, 687793.366 6...</td>\n",
              "    </tr>\n",
              "  </tbody>\n",
              "</table>\n",
              "</div>"
            ],
            "text/plain": [
              "   PLAYAREA_I  IAMS_ID                                     PARENT_PLA  \\\n",
              "0         570  PLAR618     NEMERANG CRESCENT NEIGHBOURHOOD PLAYGROUND   \n",
              "1          88  PLAR291                 TUGGERANONG TOWN DISTRICT PARK   \n",
              "2          84  PLAR286  LAKE TUGGERANONG CENTRAL COMMUNITY PLAYGROUND   \n",
              "3         574  PLAR628         WESTON PARK DISTRICT PLAYGROUND (EAST)   \n",
              "4         401  PLAR195    LYTTLETON CRESCENT NEIGHBOURHOOD PLAYGROUND   \n",
              "\n",
              "  PARENT_P_1  DIVISION_N  UPGRADE_YE  EQUIPMENT_ SURFACE_TY  \\\n",
              "0    PLGR502   WARAMANGA      2004.0     34000.0    TANBARK   \n",
              "1    PLGR242    GREENWAY      2000.0     20000.0    TANBARK   \n",
              "2    PLGR240    GREENWAY      1985.0     93000.0    TANBARK   \n",
              "3    PLGR211  YARRALUMLA      2007.0     20000.0    TANBARK   \n",
              "4    PLGR168        COOK      1985.0      8000.0    TANBARK   \n",
              "\n",
              "                               SURFACE_LO  SURFACE_AR OTHER_SURF  \\\n",
              "0        NORTH EAST SUPPORT POST AT SLIDE         308       NONE   \n",
              "1    AT SOUTH EAST SUPPORT OF ROPE BRIDGE         189       NONE   \n",
              "2       CENTRAL SPIRAL SLIDE SUPPORT POST         654     RUBBER   \n",
              "3              BASE OF NORTH SUPPORT POST         374       NONE   \n",
              "4  NORTH WEST SUPPORT POST OF SWING FRAME         167       NONE   \n",
              "\n",
              "                        OTHER_SU_1  OTHER_SU_2        EDGING_TYP FENCING_TY  \\\n",
              "0     UNDERNEATH CRADLE SWING SEAT         NaN  TIMBER (SLEEPER)       NONE   \n",
              "1                AT CONVEX CLIMBER         NaN          CONCRETE       NONE   \n",
              "2            UNDER TYRE SWING SEAT         NaN             BRICK       NONE   \n",
              "3        UNDERNEATH NORTHEAST EDGE         NaN          CONCRETE       NONE   \n",
              "4  UNDERNEATH EAST FLAT SWING SEAT         NaN          CONCRETE       NONE   \n",
              "\n",
              "        ACCESS_DES ALL_ACCESS AGE_RANGE_ AGE_RANG_1 AGE_RANG_2 AGE_RANG_3  \\\n",
              "0      NO FOOTPATH         NO        YES        YES        YES        YES   \n",
              "1      NO FOOTPATH         NO         NO         NO         NO         NO   \n",
              "2  GRAVEL FOOTPATH         NO        YES        YES        YES        YES   \n",
              "3      NO FOOTPATH         NO         NO         NO         NO         NO   \n",
              "4      NO FOOTPATH         NO        YES        YES        YES        YES   \n",
              "\n",
              "   BALANCE  BRIDGE  BAR  CLIMBER  CUBBY  COMBINATIO  FLYING_FOX  FORT  GOAL  \\\n",
              "0        0       1    0        0      0           1           0     0     0   \n",
              "1        0       0    0        0      0           1           0     0     0   \n",
              "2        0       0    0        0      0           1           0     0     0   \n",
              "3        0       0    0        1      0           0           0     0     0   \n",
              "4        0       0    0        0      0           0           0     0     0   \n",
              "\n",
              "   PANAL  ROCKER  ROTATION  SCULPTURE  SLIDE  SOUND  SWING  TRACK_GLID  \\\n",
              "0      0       2         0          0      0      0      1           0   \n",
              "1      0       0         0          0      0      0      0           0   \n",
              "2      0       0         0          0      0      0      1           0   \n",
              "3      0       0         0          0      0      0      0           0   \n",
              "4      0       0         0          0      0      0      1           0   \n",
              "\n",
              "   SAND_ELEME  EXERCISE_E  VEHICLE  TOTAL_STRU  \\\n",
              "0           0           0        0           5   \n",
              "1           0           0        0           1   \n",
              "2           0           0        0           2   \n",
              "3           0           0        0           1   \n",
              "4           0           0        0           1   \n",
              "\n",
              "                                            COMMENTS FEATURE_TY OPERATIONA  \\\n",
              "0  CONTAINS COMBINATION UNIT, POMMEL WALK BRIDGE,...  PLAY AREA       None   \n",
              "1  CONTAINS SENIOR COMBINATION UNIT WITH WAVE CLI...  PLAY AREA       None   \n",
              "2  CONTAINS COMBINATION UNIT, CAROUSEL, ROCKERS A...  PLAY AREA       None   \n",
              "3                                  CONTAINS SPACENET  PLAY AREA       None   \n",
              "4                                    CONTAINS SWING.  PLAY AREA       None   \n",
              "\n",
              "    PERIMETER LATITUDE LONGITUDE FEATURE__1  CREATE_DAT FEATURE_IN  OBJECTID  \\\n",
              "0   83.743705     None      None         20  2006-04-19       None       509   \n",
              "1   53.091511     None      None         20  2005-11-24       None       519   \n",
              "2  105.055264     None      None         20  2005-11-24       None       530   \n",
              "3   69.832033     None      None         20  2008-03-03       None       539   \n",
              "4   46.061747     None      None         20  2005-11-24       None       555   \n",
              "\n",
              "   NATURAL_EL PLAYGROUND  OBJECTID_1  \\\n",
              "0           0       None           1   \n",
              "1           0       None           2   \n",
              "2           0       None           3   \n",
              "3           0       None           4   \n",
              "4           0       None           5   \n",
              "\n",
              "                                            geometry  \n",
              "0  POLYGON ((687495.810 6085385.177, 687496.139 6...  \n",
              "1  POLYGON ((687523.621 6079403.764, 687523.542 6...  \n",
              "2  POLYGON ((688202.853 6080304.036, 688202.182 6...  \n",
              "3  POLYGON ((689979.075 6092608.438, 689979.557 6...  \n",
              "4  POLYGON ((687791.824 6096071.457, 687793.366 6...  "
            ]
          },
          "metadata": {
            "tags": []
          },
          "execution_count": 94
        }
      ]
    },
    {
      "cell_type": "markdown",
      "metadata": {
        "id": "4SJhmWNneA-g"
      },
      "source": [
        "# Clean and Prepare Data:\n",
        "\n",
        "After importing the dataset from the shapefile we only need a small part of the data for this project. A new dataframe is created to contain just the ID, Name and 'geometry' of each playground. As the location of each playground is stored as a polygon of lat/longs and only a single lat/long for each playground is required for the project we can use the centroid function from the geopandas library to find a single lat/long for the centre of each polygon. This is then added to the dataframe and the geometry of the geodataframe is then set to the centroid column to allow the use of the plot() library function to provide a graphical representation. \n",
        "\n",
        "The Co-ordinate Refernce System (CRS) is then converted to WGS84 to allow the extraction of the lat/long later in the project and to display the values as a decimal. \n",
        "\n",
        "No further data cleaning was required as there are no null, nan, or blank fields in the data. \n",
        "\n",
        "[GeoPandas Documentation](https://geopandas.readthedocs.io/en/latest/docs/user_guide/data_structures.html#geodataframe)"
      ]
    },
    {
      "cell_type": "code",
      "metadata": {
        "colab": {
          "base_uri": "https://localhost:8080/"
        },
        "id": "gYAjCIQjCh5x",
        "outputId": "423d74ab-74ca-4d62-e269-58278b2a2162"
      },
      "source": [
        "# Clean the data set by creating new dataframe with just the relevant columns of interest\n",
        "pg_ll = pd.DataFrame(pg_shape, columns = ['PLAYAREA_I', 'PARENT_PLA', 'geometry'])\n",
        "\n",
        "# Convert the dataframe back to a geodataframe to ensure geopandas functions will work on the dataframe\n",
        "pg_ll = gpd.GeoDataFrame(pg_ll, geometry='geometry')\n",
        "\n",
        "# Use the geopandas function 'centroid' to find a single lat/long for each playground area (polygon) and add as a new column\n",
        "pg_ll['centroid'] = pg_ll.centroid\n",
        "\n",
        "# As pg_ll is a geodataframe set the column 'centroid' to be the reference for geometry data when plotting the dataset. \n",
        "pg_ll = pg_ll.set_geometry(\"centroid\")\n",
        "\n",
        "# The 'geometry' column is no longer needed.\n",
        "pg_ll = pg_ll.drop(columns=['geometry'])\n",
        "\n",
        "#record the old crs\n",
        "old_crs = pg_ll.crs\n",
        "\n",
        "# Convert the geodataframe to WGS84\n",
        "pg_ll = pg_ll.to_crs(epsg=4326)\n",
        "\n",
        "# Now split the lat/long from the centroid column into individual columns so they are represented as floats to allow later analysis\n",
        "pg_ll['long'] = pg_ll['centroid'].x\n",
        "pg_ll['lat'] = pg_ll['centroid'].y\n",
        "\n",
        "print(pg_ll.head(), '\\n')"
      ],
      "execution_count": 87,
      "outputs": [
        {
          "output_type": "stream",
          "text": [
            "The new CRS is :  epsg:4326 \n",
            "\n",
            "   PLAYAREA_I                                     PARENT_PLA  \\\n",
            "0         570     NEMERANG CRESCENT NEIGHBOURHOOD PLAYGROUND   \n",
            "1          88                 TUGGERANONG TOWN DISTRICT PARK   \n",
            "2          84  LAKE TUGGERANONG CENTRAL COMMUNITY PLAYGROUND   \n",
            "3         574         WESTON PARK DISTRICT PLAYGROUND (EAST)   \n",
            "4         401    LYTTLETON CRESCENT NEIGHBOURHOOD PLAYGROUND   \n",
            "\n",
            "                      centroid        long        lat  \n",
            "0  POINT (149.06358 -35.35739)  149.063584 -35.357387  \n",
            "1  POINT (149.06535 -35.41107)  149.065349 -35.411072  \n",
            "2  POINT (149.07241 -35.40279)  149.072411 -35.402790  \n",
            "3  POINT (149.08932 -35.29166)  149.089324 -35.291663  \n",
            "4  POINT (149.06433 -35.26093)  149.064331 -35.260928   \n",
            "\n"
          ],
          "name": "stdout"
        }
      ]
    },
    {
      "cell_type": "markdown",
      "metadata": {
        "id": "nkdN2HK1wqEA"
      },
      "source": [
        "Now lets have a look at the final dataset before using it for further analysis"
      ]
    },
    {
      "cell_type": "code",
      "metadata": {
        "colab": {
          "base_uri": "https://localhost:8080/"
        },
        "id": "M0_2kXyIQvNX",
        "outputId": "ec93ce32-2e81-4361-9b9a-21c7b5b2b5f6"
      },
      "source": [
        "print('The old CRS was: ', old_crs, '\\n',)\n",
        "\n",
        "print('The new CRS is : ', pg_ll.crs, '\\n')\n",
        "\n",
        "# Check the size of the dataset\n",
        "print('The new dataset now has the shape: ', pg_ll.shape, '\\n')\n",
        "\n",
        "# Check the centroid values are displayed as appropriate lat/longs in a standard format. \n",
        "print('The first lat/longs are: Geometry = {}, Long = {}, Lat = {}' .format(pg_ll.centroid[0], pg_ll.long[0], pg_ll.lat[0]), '\\n')\n",
        "\n",
        "# Check the data types of the dataset\n",
        "print('The data types are: \\n', pg_ll.dtypes)"
      ],
      "execution_count": 93,
      "outputs": [
        {
          "output_type": "stream",
          "text": [
            "The old CRS was:  epsg:28355 \n",
            "\n",
            "The new CRS is :  epsg:4326 \n",
            "\n",
            "The new dataset now has the shape:  (703, 5) \n",
            "\n",
            "The first lat/longs are: Geometry = POINT (149.0635838115136 -35.35738671717123), Long = 149.06358381151355, Lat = -35.35738671717123 \n",
            "\n",
            "The data types are: \n",
            " PLAYAREA_I       int64\n",
            "PARENT_PLA      object\n",
            "centroid      geometry\n",
            "long           float64\n",
            "lat            float64\n",
            "dtype: object\n"
          ],
          "name": "stdout"
        },
        {
          "output_type": "stream",
          "text": [
            "/usr/local/lib/python3.7/dist-packages/ipykernel_launcher.py:9: UserWarning:\n",
            "\n",
            "Geometry is in a geographic CRS. Results from 'centroid' are likely incorrect. Use 'GeoSeries.to_crs()' to re-project geometries to a projected CRS before this operation.\n",
            "\n",
            "\n"
          ],
          "name": "stderr"
        }
      ]
    },
    {
      "cell_type": "markdown",
      "metadata": {
        "id": "RugpY5jAwxNd"
      },
      "source": [
        "The data can also be visually represented to allow any clusters, trends or initial observations to be made. \n",
        "\n",
        "From this plot it can be seen there are about 5 main areas and the plot generally represents the populus areas of the region."
      ]
    },
    {
      "cell_type": "code",
      "metadata": {
        "colab": {
          "base_uri": "https://localhost:8080/",
          "height": 282
        },
        "id": "JY5gjbBXD7e7",
        "outputId": "1073fb57-6243-490d-94ad-fa7a6d7ec86e"
      },
      "source": [
        "#Use the geopandas function plot() to show our geometry points \n",
        "pg_ll.plot()"
      ],
      "execution_count": 97,
      "outputs": [
        {
          "output_type": "execute_result",
          "data": {
            "text/plain": [
              "<matplotlib.axes._subplots.AxesSubplot at 0x7f34accc4f90>"
            ]
          },
          "metadata": {
            "tags": []
          },
          "execution_count": 97
        },
        {
          "output_type": "display_data",
          "data": {
            "image/png": "[encoded data removed]",
            "text/plain": [
              "<Figure size 432x288 with 1 Axes>"
            ]
          },
          "metadata": {
            "tags": [],
            "needs_background": "light"
          }
        }
      ]
    },
    {
      "cell_type": "markdown",
      "metadata": {
        "id": "I11HWoc11ynS"
      },
      "source": [
        "# K-Means Cluster Analysis:\n",
        "\n",
        "To allow a kmeans cluster grouping on our playgrouds locations we seperated the Lat/long into individual columns of the type float. This allows us to plot them as x,y co-ordinates. As can be seen this plot looks similar to the geopandas plot above. "
      ]
    },
    {
      "cell_type": "code",
      "metadata": {
        "colab": {
          "base_uri": "https://localhost:8080/",
          "height": 617
        },
        "id": "qrXeqEVkaRhG",
        "outputId": "a5b0041c-1d14-4308-ec47-6b2b44840887"
      },
      "source": [
        "import plotly.express as px\n",
        "\n",
        "# clean the data to only contain the lat/long to use as x,y co-ordinates. \n",
        "pg_ll_only = pg_ll.drop(columns=['PLAYAREA_I', 'PARENT_PLA', 'centroid'])\n",
        "\n",
        "fig = px.scatter(pg_ll_only, x=\"long\", y=\"lat\")\n",
        "\n",
        "fig.update_layout(\n",
        "    title = \"Plot of Playgrounds in Canberra\",\n",
        "    width = 800,\n",
        "    height = 600\n",
        ")\n",
        "\n",
        "fig.show()\n"
      ],
      "execution_count": 99,
      "outputs": [
        {
          "output_type": "display_data",
          "data": {
            "text/html": [
              "<html>\n",
              "<head><meta charset=\"utf-8\" /></head>\n",
              "<body>\n",
              "    <div>\n",
              "            <script src=\"https://cdnjs.cloudflare.com/ajax/libs/mathjax/2.7.5/MathJax.js?config=TeX-AMS-MML_SVG\"></script><script type=\"text/javascript\">if (window.MathJax) {MathJax.Hub.Config({SVG: {font: \"STIX-Web\"}});}</script>\n",
              "                <script type=\"text/javascript\">window.PlotlyConfig = {MathJaxConfig: 'local'};</script>\n",
              "        <script src=\"https://cdn.plot.ly/plotly-latest.min.js\"></script>    \n",
              "            <div id=\"ec8fff59-31fb-4e80-8191-2c1a05064532\" class=\"plotly-graph-div\" style=\"height:600px; width:800px;\"></div>\n",
              "            <script type=\"text/javascript\">\n",
              "                \n",
              "                    window.PLOTLYENV=window.PLOTLYENV || {};\n",
              "                    \n",
              "                if (document.getElementById(\"ec8fff59-31fb-4e80-8191-2c1a05064532\")) {\n",
              "                    Plotly.newPlot(\n",
              "                        'ec8fff59-31fb-4e80-8191-2c1a05064532',\n",
              "                        [{\"hoverlabel\": {\"namelength\": 0}, \"hovertemplate\": \"long=%{x}<br>lat=%{y}\", \"legendgroup\": \"\", \"marker\": {\"color\": \"#636efa\", \"symbol\": \"circle\"}, \"mode\": \"markers\", \"name\": \"\", \"showlegend\": false, \"type\": \"scatter\", \"x\": [149.06358381151355, 149.065348707271, 149.07241084113147, 149.08932371455734, 149.06433072794854, 149.1359942867151, 149.0856440962578, 149.12401613607375, 149.03785551026104, 149.0190427459303, 149.15726528171766, 149.0914231144245, 149.13472286987468, 149.24869591249785, 149.24633045741638, 149.0714413696464, 148.9299275997352, 149.06346200217493, 149.06344185085268, 149.05548108200014, 149.10992109409221, 149.1044661152137, 149.1261730224061, 149.01988923839687, 149.13190912226926, 149.03028533489586, 149.11600069763745, 149.0419355410194, 149.0452415124568, 149.06583402772543, 149.10345988908645, 149.10833018228223, 149.0097222209954, 149.15274768673245, 149.157602578411, 149.22758939664726, 149.05931858053336, 149.10079096668787, 149.0388031143358, 149.07174544813824, 148.94136191331225, 149.10476069348852, 149.10786868658874, 149.11239870626494, 149.11501173888047, 149.11273126507226, 149.0966287003516, 149.14902238481878, 149.14220816297697, 149.1421643957527, 149.05479562240478, 149.10709619055578, 149.10253465219571, 149.10234672948081, 149.0024996260721, 149.07406929145208, 149.09164822366117, 148.95446920634336, 149.14137998525732, 149.12901717489564, 149.0940135605237, 149.0024464014026, 149.06318532654623, 149.10126347987855, 149.10084286669985, 149.08432320186745, 149.1574720204869, 149.11183425577008, 149.06978394828252, 149.06998101468895, 149.06304360830376, 149.1487075073036, 149.00590679106563, 149.00335227771933, 149.15033044147532, 149.10241487335563, 149.10258839196908, 149.025639537419, 149.02642862340073, 149.0308541878638, 149.03581043413948, 149.1044001082189, 149.0838123817232, 149.08647909018322, 149.10219050310567, 149.14902260443637, 149.06429040101523, 149.06170469280994, 149.06236651819682, 149.0193130506096, 149.06917478532952, 149.07448413461768, 149.0599750296444, 149.0596964632467, 149.0623527938234, 149.0725678709564, 149.00271205341497, 149.0132140532136, 149.0095407821046, 149.1487905786843, 149.10938540122444, 149.07717678636254, 149.06872460132644, 149.06701457100996, 149.06874831415354, 149.05751055638942, 149.07130549391945, 149.07200240423217, 149.06916832087475, 149.07121002701464, 149.05462150944217, 149.1408609565821, 149.08087461591546, 149.04760704000995, 149.0571068140133, 149.05216086396462, 149.02913586068036, 149.02881915022294, 149.13852845968117, 149.0301055807671, 149.02152579125612, 149.1178842707336, 149.15555745295453, 149.15526361742928, 149.10828194716038, 149.1179464361952, 149.11144998665722, 149.05343709237505, 149.08230135413382, 149.04773918284718, 149.05147482540903, 149.05794459198768, 149.05338787577878, 149.1209528250925, 149.12015688620278, 149.12128832647656, 149.12064626718484, 149.13428834220855, 149.11688071628186, 149.16525721566825, 149.15913912356, 149.14956918062452, 149.14369312395007, 149.23081151410503, 149.15961771035194, 149.10284987856843, 149.10312872918297, 149.07483057553648, 149.14884517407776, 149.077635935474, 149.07737731474054, 149.08104407021753, 149.08883483929515, 149.0885058676044, 149.12342132247065, 149.12350323185396, 149.10283737831543, 149.11816915739996, 149.0993342293385, 149.0957033640556, 149.10113940747613, 149.1014064494707, 149.09434665744377, 149.12105357435794, 149.09207442993494, 149.07558172496022, 149.0943223859974, 149.07949343630764, 149.13691999801188, 149.12143199270395, 149.11162326283133, 149.09211023234545, 149.0965496566642, 149.0791397674704, 149.07923929472128, 149.11410981663866, 149.1585952143548, 149.12186533668705, 149.1242082104141, 149.0748028903305, 149.0451977918095, 149.0393065048853, 149.0321050600619, 149.0459192805216, 149.14921666157724, 149.1121601396829, 149.1659191362144, 149.1004454147161, 149.1319363359691, 149.16578862426294, 149.10028255665983, 149.08984592010688, 149.09525847039055, 149.03850085678943, 149.1191222629912, 149.13792928609513, 149.13776084496908, 149.14157387816957, 149.15321427415427, 149.1578638093728, 149.13998114530204, 149.13383278186436, 149.1341479791569, 149.1342009209345, 149.16588193622624, 149.13421118247626, 149.10073365867743, 149.12713846758325, 149.13681291713888, 149.14387868655203, 149.1008302086165, 149.097179681796, 149.12097298590376, 149.11500701449384, 149.11439431564222, 149.12218995280364, 149.12066886803518, 149.11101020307856, 149.0830688226913, 149.12281314477121, 149.07796041258177, 149.0822813816595, 149.08960152407988, 149.0593619101352, 149.051782557324, 149.05852113119101, 149.08980354684434, 149.05815142347424, 149.08736272597372, 149.07271602299903, 149.09773830093545, 149.1056747952333, 149.04445191547947, 149.06227724095032, 149.0798245869858, 149.07719569459653, 149.15452403208846, 149.0781887010051, 149.14871443754768, 149.055574315545, 149.07331069565458, 149.0731420828076, 149.07315858631802, 149.1529094385799, 149.06759346445494, 149.08752470381071, 149.1560573336692, 149.05193326789353, 149.04959855307462, 149.06538953999052, 149.04774197403705, 149.06193782076036, 149.06317595165163, 149.06213076085444, 149.0467089719511, 149.04963846446614, 149.0558668067484, 149.11266933901254, 149.11398462563793, 149.11589920960034, 149.12097237926872, 149.13866237367318, 149.13547647462758, 149.06667299781725, 149.06539874187797, 149.16389071667243, 149.065567074562, 149.0657201854137, 149.07834742907804, 149.1015334688289, 149.08694004157329, 149.08793775663, 149.09027785330736, 149.0342785608447, 149.05092019136265, 149.04175543413126, 149.09233327933657, 149.09741511410806, 149.07225130627756, 149.06229215018425, 149.06624845341344, 149.06274079484, 149.12082775816913, 149.12116230778432, 149.06544912598258, 149.03312441392816, 149.03326694160006, 149.105474958266, 149.10539044403066, 149.10538874962504, 149.10548521142965, 149.10554917774257, 149.16194253191108, 149.08248992078336, 149.0621915865588, 149.0531867207471, 149.04951716784154, 149.1561854545416, 149.11628557706968, 149.1112759920549, 149.1094243112442, 149.09577570088902, 149.13828278658224, 149.10250835477396, 149.03702723565894, 149.029967235965, 149.03292867140604, 149.03025737921377, 149.04470256745424, 149.08421444447137, 149.07952863688, 149.08805021653828, 149.08313838048664, 149.08459524853288, 149.083201096041, 149.13140679422702, 149.08375906974553, 149.082518947976, 149.08351285754893, 149.09935361755686, 149.07460051649934, 149.07287206385138, 149.07285077280588, 149.1076630896508, 149.10755790357024, 149.06901548601908, 149.10849654613514, 149.1086727309358, 149.10189998694295, 149.10196881394378, 148.9994295018667, 149.13951475049558, 149.13964798630792, 149.04888338716856, 149.0744139883774, 149.07450318939877, 149.14127601622343, 149.07597282139105, 149.1134019614662, 149.06476776791342, 149.1592901129781, 149.03215402566514, 149.1452681464361, 149.14538648614814, 149.14433988373855, 149.14436890363274, 149.06821426934363, 149.08903665834788, 149.06337812117553, 149.0395393642661, 149.0382119185453, 149.0380580811847, 149.04198970598446, 149.10173541045657, 149.11283547574527, 149.0631642218085, 149.0637618524665, 149.06404223243894, 149.063691017348, 149.05973551909403, 149.1447089114909, 149.14481085083835, 149.12413178913775, 149.07656941364044, 149.162086754695, 149.04433143584296, 149.12910765692448, 149.11057626563547, 149.1284986945084, 149.1338637583675, 149.10830698951153, 149.1044572750293, 149.1110394765683, 149.1111712529868, 149.1144741950725, 149.06626704674434, 149.05235413561326, 149.0574744909843, 149.10628251344585, 149.111556015053, 149.09089288310273, 149.09657964636676, 149.0995122201366, 149.1113332719502, 149.04461944166766, 149.15244429967646, 149.01706819003795, 149.09170281650083, 149.091787116148, 149.09394842808888, 149.03421898940073, 149.06431140203162, 149.14172377665776, 149.14180992368597, 149.14402028970915, 149.1439804958796, 149.14417355011616, 149.14373833018482, 149.0916628871117, 149.12059595067717, 149.13739315871092, 149.08782410767196, 149.14723865078878, 149.08206482045637, 149.0974895845382, 149.14177711873106, 149.1415562627085, 149.08782400620467, 149.0878370610039, 149.03686612044842, 149.1127788314229, 149.11907350743354, 149.12611615788563, 149.0993488072325, 149.11894691005017, 149.11827775461649, 149.06677983645676, 149.06695314193294, 149.06671643380088, 149.1175385064866, 149.10607929144706, 149.1282904972065, 149.07105546800017, 149.0659761899665, 149.06469815054285, 149.0650653306646, 149.06996223129678, 149.0702779481573, 149.0145618826631, 149.05950749463506, 149.05725740469063, 149.07729159722925, 149.08356483958158, 149.0836250013083, 149.06195404804984, 149.01254372210568, 149.0088426539946, 149.0432448341699, 149.1086459665976, 149.10714112105333, 149.1450831969738, 149.07937083921175, 149.09819197183592, 149.1352298104235, 149.09334115950418, 149.11963100645042, 149.09788398469587, 149.11980578399528, 149.02692920748626, 149.14046880220644, 149.09406685042453, 149.05390666960685, 149.05018837279604, 149.00904508351795, 149.0126928130988, 149.1445774577072, 149.11220249587106, 149.05025484501667, 149.1104054510688, 149.14281428674528, 149.06319680855887, 149.0751303809258, 149.1513255896249, 149.15137844761918, 149.09401249925688, 149.09393068548016, 149.0994953079735, 149.102312989452, 149.07152817665514, 149.14955110110063, 149.14943141443146, 149.14935105154868, 149.0613162599924, 149.06303036840774, 149.14329813968376, 149.08528244977185, 149.0549345597001, 149.0659008953806, 149.09744298563666, 149.1456730627573, 149.0973703792858, 149.01441536285387, 149.0221431118536, 149.04059921790534, 149.050050867568, 149.15045016584588, 149.08411065848964, 149.04606008461573, 149.14517907516085, 149.07116862196318, 149.07133580492552, 149.05229868738945, 149.05206280157745, 149.06204368821435, 149.10071725154214, 149.1141831305248, 149.1196120174242, 149.102194460161, 149.11358067120872, 149.1519240514226, 149.15180473094455, 149.15249152854958, 149.15240504508463, 149.1347236592865, 149.10715292753045, 149.10601946447866, 149.11724982414694, 149.01267270744484, 149.07360080896294, 149.00487060607836, 149.149456235415, 149.04029552157093, 149.0327003932187, 149.04147696178956, 149.0310414100363, 149.03674656288769, 149.04593051154512, 149.0457858244427, 149.04372966681134, 149.08196055370445, 149.07669167385558, 149.0802497162829, 149.03579669285875, 149.0656052055861, 149.06122777635557, 149.05637149526686, 149.053717933439, 149.05910546259986, 149.08504457335403, 149.08799030974296, 149.08968610682928, 149.089587861566, 149.0804471835922, 149.13630863100803, 149.10725661222057, 149.14138085611214, 149.1256279322052, 149.11113786460905, 149.10696237909534, 149.0686611567927, 149.0419840563418, 149.06084373668278, 149.09205823182313, 149.12148824104517, 149.07198034404536, 149.14253876838578, 149.13907040118707, 149.05015888349007, 149.00184344343975, 149.14626460745703, 149.22752686505353, 149.14644166339326, 149.1421346192413, 149.13661600216423, 149.1367758481761, 149.04498455761208, 149.05206046762584, 149.16653206390373, 149.05336719099773, 149.09304945427547, 149.09288894865043, 149.13728980838314, 149.09922631570245, 149.08328482539352, 149.0840572946804, 149.07447401311626, 149.08033201672578, 149.07661423347542, 149.082155078293, 149.07509110741236, 149.07865254733397, 149.04832367710384, 149.1137278166324, 149.05051697010708, 149.09471676569495, 149.09150792084245, 149.0538919980206, 149.10225940437417, 149.03470139972117, 149.05724561652272, 149.12773205514944, 149.1244389805274, 149.088523897318, 149.0352530465534, 149.12426139428814, 149.1101152245056, 149.06155848577157, 149.06349316454072, 149.05814946587654, 149.07096104323975, 149.04504909058454, 149.06314656914978, 149.06305766253476, 149.04654695624055, 149.14418619540078, 149.13991357470147, 149.04389952874865, 149.09278908010597, 149.03214365209251, 149.04399989812435, 149.03384439171316, 149.0304288178002, 149.03070560797676, 149.1083819989741, 149.1123781672129, 149.10008225564712, 149.08168005754916, 149.08950122701157, 149.10475868452264, 149.0842975051356, 149.0840427623601, 149.0789890252688, 149.08506074814787, 149.10613364734496, 149.11322921245068, 149.05949785262771, 149.05511248339442, 149.07152380014338, 149.09370196344858, 149.09772154418357, 149.0929520277081, 149.10640909424527, 149.09856896217872, 149.095676744601, 149.10052150973, 149.01519038369906, 149.11239440126806, 149.05610637262635, 149.12438603914825, 149.07123902820868, 149.10136805716365, 149.1559792931659, 149.11671797370815, 149.1204475907562, 149.03875237806753, 149.04532192073356, 149.07512634560004, 149.06938000858818, 149.0431156964834, 149.123264952032, 149.06300835443398, 149.2274861518252, 149.14360992058832, 149.14358552781226, 149.14377022632823, 149.04788344445706, 149.15633936052666, 149.11916007255158, 149.11918270706454, 149.04653968484985, 149.07159943113177, 149.07146433963516, 149.0717890543855, 149.06012982799052, 149.03883558319214, 149.0180582272194, 149.10830678678792, 149.09020364968404, 149.05255794925563, 149.03897248311995, 149.05219097171585, 149.04500879934537, 149.035733596768, 149.03208488503506, 149.03102496231054, 149.13129482654318, 149.13111497535274, 149.1299671875536, 149.03544270120418, 149.12975248010468, 149.12979208607848, 149.07677654695118, 149.02836348826946, 149.02833662191387, 149.1111736400948, 149.04825743859345, 149.0481946977266, 149.04831840325716, 149.0816858014766, 149.01812243048934, 149.10853378920285, 149.09484272031844, 149.12875244838483, 149.14708234685105, 149.03211067571706, 149.02047857760707, 149.09543189779683, 149.09480674658178, 149.05156763830385, 149.02285720365975, 149.01984541973195, 149.0967751084449, 149.09654342437062, 149.09661907360092, 149.02821039207197, 149.0628856418783, 149.03862328940642, 149.03032481953105, 149.11102615194432, 149.1057224489559, 149.1055410943806, 149.11171801734514, 149.11175834700572], \"xaxis\": \"x\", \"y\": [-35.35738671717123, -35.41107217697875, -35.402789855739805, -35.291662708363695, -35.260927964507104, -35.28101745085815, -35.39060301077102, -35.24085483934319, -35.33139781930651, -35.22231191261611, -35.198034346102816, -35.21462267307519, -35.18647068888465, -35.32786550225669, -35.322415648380755, -35.38562182240205, -35.44290387874715, -35.39238724972017, -35.39269858836592, -35.39080175323679, -35.176130082212715, -35.18138493008161, -35.335914489318135, -35.19424907040215, -35.16786688843953, -35.232650068182075, -35.228784779463304, -35.23146677502455, -35.2369599745726, -35.2054474818275, -35.23418624721171, -35.229053320048905, -35.22105937273461, -35.316790959624534, -35.20687516735259, -35.34201517025569, -35.37699866408095, -35.30727683753907, -35.20196872187524, -35.203959222054856, -35.323763549672115, -35.202363655100065, -35.21542552866661, -35.21598482011498, -35.22246787305272, -35.230965501048566, -35.23517442794605, -35.16034930698287, -35.42124930342561, -35.421357584267675, -35.337447008842275, -35.19739453185166, -35.201832594918876, -35.20176586975246, -35.20498904848313, -35.33656988301036, -35.34095056978712, -35.31992550142507, -35.17294916670166, -35.42723843155097, -35.17217711581092, -35.21308166645996, -35.39261370231292, -35.292136426191526, -35.29247506694596, -35.32079910645139, -35.19824318378058, -35.224082321297836, -35.3822991788727, -35.38234386470794, -35.391767390806415, -35.16307520277377, -35.207880236188274, -35.21758343074787, -35.1541121638685, -35.20156881673606, -35.201618187442676, -35.214329217093805, -35.2171025961893, -35.22192613020122, -35.221978940586354, -35.22132355575087, -35.446139123376994, -35.45117603947534, -35.23183918166381, -35.24450850547008, -35.2016453451821, -35.19446542177099, -35.196693524191836, -35.2222769639818, -35.22585713207751, -35.22928929746813, -35.23449363977109, -35.23163597158734, -35.227885319079576, -35.24597765987488, -35.22334433870602, -35.22895346350993, -35.22558996107503, -35.24475694769948, -35.20200553715342, -35.20958380921729, -35.208982591718176, -35.2179718934471, -35.20912991426965, -35.21583121699593, -35.2580536025801, -35.25585766543887, -35.264992713060295, -35.25814570398458, -35.2265749537324, -35.242697116065536, -35.254326274255554, -35.223696753060985, -35.22364579663598, -35.23166790193526, -35.23693869499004, -35.23734519784889, -35.24648614657313, -35.22805186479707, -35.23024430114566, -35.26084421264558, -35.241917867324936, -35.23572040062147, -35.463791056991276, -35.39931117896642, -35.40447381440981, -35.21150090699468, -35.249719557156325, -35.2176079787944, -35.208139999284256, -35.20466497397061, -35.205566324737205, -35.411037783078484, -35.41119694075966, -35.400437161537624, -35.4267050264037, -35.42396619483176, -35.42228663297398, -35.24944661003241, -35.23847761137867, -35.23729864997797, -35.28306329851478, -35.34096691260834, -35.248679291851396, -35.46436014677764, -35.46439883093794, -35.24814424476502, -35.24491736925289, -35.244458074904024, -35.24867183835249, -35.46126248872694, -35.46540830304249, -35.4709063664533, -35.442232607303744, -35.442321949836064, -35.40475024754562, -35.45421371798782, -35.40049830193842, -35.38848825080629, -35.39643076385324, -35.39659928312817, -35.39288469191643, -35.247771910320196, -35.39898186224097, -35.40010120775252, -35.40052026701775, -35.400362945244, -35.25540513385254, -35.252436238838264, -35.256946489885806, -35.41383714468441, -35.4093953884455, -35.40999405607305, -35.410013510049296, -35.431961090055275, -35.246783149412124, -35.421230667525876, -35.41494904021078, -35.23570108090033, -35.21020954835786, -35.20657049358525, -35.201174798701786, -35.203188721361066, -35.25267752262358, -35.31795975283901, -35.25356966685972, -35.3190553295018, -35.33979869514233, -35.25358411218068, -35.47167901521264, -35.29158666041392, -35.47596364464538, -35.20185671934977, -35.24076262040683, -35.33764316559579, -35.3377141002957, -35.338600714472435, -35.329312090324905, -35.331886184724176, -35.33539926557969, -35.327763255249884, -35.323240757330126, -35.323455242030896, -35.25345864371317, -35.32362524106697, -35.30691358755915, -35.32283917963859, -35.32191158015317, -35.32767267983724, -35.30709491836058, -35.419256849299806, -35.43127942000308, -35.4271201971583, -35.44702371397673, -35.44491925525795, -35.44980123004483, -35.36822845660743, -35.41852282569081, -35.23709481687422, -35.4197198735571, -35.41566886656531, -35.41814445860165, -35.3768898570349, -35.39134024120172, -35.39615752518762, -35.38655796126302, -35.39634779303662, -35.387569144949026, -35.39237484904605, -35.43995999475788, -35.43641645647271, -35.392805159497044, -35.39242841678954, -35.38416474115168, -35.387446491221915, -35.289203738210915, -35.38958861537457, -35.288207764529744, -35.392850041313686, -35.38962850837608, -35.389599582861095, -35.389959372220645, -35.29222959848834, -35.38501639645543, -35.385638404390946, -35.2847135193712, -35.389217339138476, -35.38975677833098, -35.39838161490539, -35.39555918576773, -35.398661624054974, -35.392194286520365, -35.392411769185095, -35.38079894430774, -35.38351644437795, -35.388204764369675, -35.437285772865465, -35.43704983973748, -35.4419759630398, -35.41496533493843, -35.42008712651724, -35.418295895519776, -35.403563151947225, -35.41092450554046, -35.24484233601365, -35.41111178267389, -35.41105079951404, -35.429523422898995, -35.45682465179312, -35.43664149253767, -35.17592452039158, -35.168941407309475, -35.198346678931266, -35.19924803037837, -35.19987619562302, -35.433668139256625, -35.430621917975635, -35.382691312220665, -35.38268391175972, -35.37859997329075, -35.37646727934679, -35.1557348263369, -35.15548839126852, -35.41079437699282, -35.31304056726294, -35.313035660904404, -35.14678163804482, -35.146805488320894, -35.14664387946109, -35.14687650950325, -35.146816995573936, -35.1878376028343, -35.38807355742086, -35.3723587390871, -35.37766841274896, -35.37906996566887, -35.28133573574613, -35.37691415742892, -35.379468973771246, -35.38146656589437, -35.374563202906764, -35.26366856750508, -35.374113989985375, -35.340463958337295, -35.34134945750518, -35.336545653226686, -35.334328092975795, -35.337010516560355, -35.402873860310734, -35.40056808653632, -35.40419209358025, -35.45569626773243, -35.45573274403574, -35.45618367096779, -35.25404913488173, -35.45628226342372, -35.45167767048883, -35.45633254412313, -35.42463032874634, -35.20607176145158, -35.420331341121255, -35.420061347161685, -35.415179989953565, -35.41521663358116, -35.26500692921833, -35.15103543405101, -35.15098929326265, -35.150632160837105, -35.1505044636314, -35.2281004532827, -35.155763783431404, -35.1556698664436, -35.33683154133624, -35.2060424412416, -35.20610013088595, -35.17286810872592, -35.21536390297655, -35.264872158080514, -35.35452440002163, -35.23230885397753, -35.323842539487494, -35.18873053104687, -35.188683149709234, -35.28943775328146, -35.28909462146163, -35.25376569714115, -35.29265023045281, -35.342518459287284, -35.2513899697135, -35.34764642604478, -35.34775308862914, -35.230159876013936, -35.183832352779966, -35.19739561234265, -35.3928626002582, -35.39224681066423, -35.39252092676498, -35.392566077662565, -35.3217913458256, -35.28876598067932, -35.288970776230556, -35.240737392549136, -35.3526868062826, -35.188011108956076, -35.39283120844431, -35.40462345784322, -35.414080908520454, -35.4082745361117, -35.26487487173814, -35.40827738063584, -35.40740917525782, -35.40717682363021, -35.40724013103799, -35.408786816266584, -35.34422090198546, -35.35768729728075, -35.360542507988036, -35.34631238075769, -35.3406095972058, -35.335424938780974, -35.33575064362284, -35.331765884854306, -35.36840298240929, -35.337262827742414, -35.184712048116346, -35.19128322724026, -35.22938444865985, -35.2292866878034, -35.45029239157947, -35.24922001558643, -35.252779784280335, -35.205660414024535, -35.20554250413139, -35.19798672491106, -35.19780763156531, -35.19746893427063, -35.197187933373584, -35.340029218614426, -35.25718899797904, -35.31541484718185, -35.22949117264292, -35.152457359925734, -35.21591471885821, -35.242508964426705, -35.268778845448686, -35.26877697201389, -35.22962497432159, -35.2297156394215, -35.22932641788238, -35.194269794739924, -35.197292818686435, -35.19611852333278, -35.15649910027065, -35.260934349610245, -35.26081043187552, -35.41101973905947, -35.41122577910265, -35.41127231170824, -35.26085615555399, -35.16322919176504, -35.408190706273814, -35.38570004093381, -35.252437309693384, -35.211295323063844, -35.21142324705687, -35.17158730372541, -35.171630034215895, -35.212929386375684, -35.247892858029275, -35.19459971508947, -35.25976312585222, -35.26050599181862, -35.26065116446464, -35.258983212189975, -35.222276166071254, -35.207395567962884, -35.31505731023685, -35.162236643165954, -35.206067212938414, -35.176086527458, -35.34112404454333, -35.18212889821228, -35.17371704198895, -35.18881335492876, -35.17040845045363, -35.213782318150884, -35.174657405454106, -35.19590623637047, -35.179333255966306, -35.18662020675475, -35.24904986066187, -35.23809062217421, -35.21661998646276, -35.21102292660061, -35.240955245540626, -35.2021998816099, -35.19089621239466, -35.41395991506771, -35.15931364398484, -35.39179275006854, -35.236459122217994, -35.187422727506025, -35.168930520968416, -35.17250846287311, -35.17262985581049, -35.156574380331755, -35.20152218070966, -35.25333694455075, -35.192238857431036, -35.19221755401901, -35.19218070013803, -35.247058791294684, -35.39167783191006, -35.24638775285986, -35.43308475642851, -35.33703772267703, -35.205526364783616, -35.16654661932604, -35.18311061183241, -35.16667798216678, -35.208167501175204, -35.21000670582579, -35.1920114050682, -35.19087646984957, -35.17355708095914, -35.32090224876022, -35.35753285580879, -35.17600172998327, -35.385594911544615, -35.38545295708749, -35.38341946223865, -35.38324291214791, -35.258878651932264, -35.21708245586153, -35.17325264666802, -35.18018538960031, -35.171867537274906, -35.34880055323218, -35.20372965665936, -35.20362927876876, -35.20354432101866, -35.20358130877727, -35.18640022024224, -35.173200303254895, -35.18575984774815, -35.189948530752304, -35.22219525399011, -35.2213361437288, -35.21445715716134, -35.25777761348363, -35.229573780930494, -35.34949326645366, -35.3345472677768, -35.35215111883723, -35.357525004849286, -35.3573621279836, -35.3574474895472, -35.36054460273734, -35.33159674448759, -35.33236605099404, -35.32653003084233, -35.343689793228165, -35.350608728897754, -35.34992480562391, -35.33379765108101, -35.34119097147777, -35.33849964982314, -35.37296057753685, -35.37311600874208, -35.368071068355704, -35.36811187801672, -35.365846036552796, -35.16188063651687, -35.20608029182934, -35.26882488219247, -35.19224125922529, -35.172778077948834, -35.173138189667526, -35.28711539311879, -35.3247492455347, -35.21839750735865, -35.21117261492458, -35.270997248072604, -35.217808497192514, -35.2026010035873, -35.20041194473394, -35.25456054280379, -35.20862993391965, -35.16818727307516, -35.34184495947338, -35.168296148245524, -35.20268304669686, -35.20554448296503, -35.20553227178098, -35.2397906563622, -35.2418448394995, -35.19639878408782, -35.238107502967715, -35.46116825634335, -35.46118216364802, -35.31494423577604, -35.15979571442142, -35.324269516713265, -35.320762646971104, -35.320682776236474, -35.32140950359599, -35.35239771245982, -35.35378354618, -35.344978044317315, -35.40649853224463, -35.234962132130555, -35.434629639808385, -35.323279250445324, -35.237431964117896, -35.340743780058425, -35.33754409276197, -35.16501011359145, -35.318586597991306, -35.25174483633367, -35.172259849907725, -35.17674597455145, -35.18146317447961, -35.32139711628567, -35.16913811654719, -35.19225031569569, -35.363061127678286, -35.39194346892988, -35.380068441958386, -35.40717532637212, -35.321476907054446, -35.22643824065485, -35.225687808385985, -35.33387991653813, -35.26167727341007, -35.28259605528214, -35.24342969586338, -35.20586256215223, -35.196197121481056, -35.207502572852285, -35.21750892996947, -35.211606437126036, -35.21138465616125, -35.423475105287466, -35.372480693063174, -35.209503574351, -35.25765652433322, -35.29155580432466, -35.31415975396626, -35.45616771732136, -35.456242050651696, -35.361803493702055, -35.36246682281871, -35.36168997500121, -35.264799542638734, -35.321887754074446, -35.3368757927844, -35.34634877330454, -35.34754864404686, -35.35156689614065, -35.35235653018127, -35.35513639426698, -35.370281136821745, -35.358384278325936, -35.307183253429365, -35.19992232692441, -35.37267783044437, -35.257556526973495, -35.26366975432823, -35.3856678834306, -35.29245625867486, -35.18910739521341, -35.39786630430379, -35.41081863733278, -35.226566364673204, -35.32129235550783, -35.23599671647084, -35.22466827488406, -35.37587227753266, -35.26735082693352, -35.22649313007366, -35.34198604973634, -35.15594328114637, -35.156031778957185, -35.15604516839513, -35.243899839042335, -35.253360820677756, -35.160614049344666, -35.16080728617659, -35.250755099271785, -35.426501736042184, -35.42648290806741, -35.42632663736876, -35.427363421806376, -35.236713825971485, -35.205527145732106, -35.15104076728694, -35.341780167253674, -35.351818700861244, -35.351723935551114, -35.34737157130864, -35.34329697710916, -35.349219011558354, -35.1914945467423, -35.18614961974652, -35.17901479938728, -35.17899702503576, -35.179196524388686, -35.238319541277505, -35.17941785045803, -35.17962505799697, -35.352527671718526, -35.31127196299404, -35.31119011116144, -35.18128029279932, -35.22738642344817, -35.22747962088275, -35.22749010482402, -35.25756255297658, -35.20560355145361, -35.15119780654766, -35.21323363560047, -35.15988635688067, -35.15234157747192, -35.19160596083268, -35.187010046218504, -35.36107230767635, -35.3565436929146, -35.362210450377496, -35.19285863794817, -35.19943956623148, -35.47045876862411, -35.47049377837192, -35.470709224674934, -35.35046314769079, -35.41321541016276, -35.196127554639524, -35.246820133591505, -35.18132096133458, -35.15842515830955, -35.15834360527513, -35.15493094413126, -35.15508660394305], \"yaxis\": \"y\"}],\n",
              "                        {\"height\": 600, \"legend\": {\"tracegroupgap\": 0}, \"margin\": {\"t\": 60}, \"template\": {\"data\": {\"bar\": [{\"error_x\": {\"color\": \"#2a3f5f\"}, \"error_y\": {\"color\": \"#2a3f5f\"}, \"marker\": {\"line\": {\"color\": \"#E5ECF6\", \"width\": 0.5}}, \"type\": \"bar\"}], \"barpolar\": [{\"marker\": {\"line\": {\"color\": \"#E5ECF6\", \"width\": 0.5}}, \"type\": \"barpolar\"}], \"carpet\": [{\"aaxis\": {\"endlinecolor\": \"#2a3f5f\", \"gridcolor\": \"white\", \"linecolor\": \"white\", \"minorgridcolor\": \"white\", \"startlinecolor\": \"#2a3f5f\"}, \"baxis\": {\"endlinecolor\": \"#2a3f5f\", \"gridcolor\": \"white\", \"linecolor\": \"white\", \"minorgridcolor\": \"white\", \"startlinecolor\": \"#2a3f5f\"}, \"type\": \"carpet\"}], \"choropleth\": [{\"colorbar\": {\"outlinewidth\": 0, \"ticks\": \"\"}, \"type\": \"choropleth\"}], \"contour\": [{\"colorbar\": {\"outlinewidth\": 0, \"ticks\": \"\"}, \"colorscale\": [[0.0, \"#0d0887\"], [0.1111111111111111, \"#46039f\"], [0.2222222222222222, \"#7201a8\"], [0.3333333333333333, \"#9c179e\"], [0.4444444444444444, \"#bd3786\"], [0.5555555555555556, \"#d8576b\"], [0.6666666666666666, \"#ed7953\"], [0.7777777777777778, \"#fb9f3a\"], [0.8888888888888888, \"#fdca26\"], [1.0, \"#f0f921\"]], \"type\": \"contour\"}], \"contourcarpet\": [{\"colorbar\": {\"outlinewidth\": 0, \"ticks\": \"\"}, \"type\": \"contourcarpet\"}], \"heatmap\": [{\"colorbar\": {\"outlinewidth\": 0, \"ticks\": \"\"}, \"colorscale\": [[0.0, \"#0d0887\"], [0.1111111111111111, \"#46039f\"], [0.2222222222222222, \"#7201a8\"], [0.3333333333333333, \"#9c179e\"], [0.4444444444444444, \"#bd3786\"], [0.5555555555555556, \"#d8576b\"], [0.6666666666666666, \"#ed7953\"], [0.7777777777777778, \"#fb9f3a\"], [0.8888888888888888, \"#fdca26\"], [1.0, \"#f0f921\"]], \"type\": \"heatmap\"}], \"heatmapgl\": [{\"colorbar\": {\"outlinewidth\": 0, \"ticks\": \"\"}, \"colorscale\": [[0.0, \"#0d0887\"], [0.1111111111111111, \"#46039f\"], [0.2222222222222222, \"#7201a8\"], [0.3333333333333333, \"#9c179e\"], [0.4444444444444444, \"#bd3786\"], [0.5555555555555556, \"#d8576b\"], [0.6666666666666666, \"#ed7953\"], [0.7777777777777778, \"#fb9f3a\"], [0.8888888888888888, \"#fdca26\"], [1.0, \"#f0f921\"]], \"type\": \"heatmapgl\"}], \"histogram\": [{\"marker\": {\"colorbar\": {\"outlinewidth\": 0, \"ticks\": \"\"}}, \"type\": \"histogram\"}], \"histogram2d\": [{\"colorbar\": {\"outlinewidth\": 0, \"ticks\": \"\"}, \"colorscale\": [[0.0, \"#0d0887\"], [0.1111111111111111, \"#46039f\"], [0.2222222222222222, \"#7201a8\"], [0.3333333333333333, \"#9c179e\"], [0.4444444444444444, \"#bd3786\"], [0.5555555555555556, \"#d8576b\"], [0.6666666666666666, \"#ed7953\"], [0.7777777777777778, \"#fb9f3a\"], [0.8888888888888888, \"#fdca26\"], [1.0, \"#f0f921\"]], \"type\": \"histogram2d\"}], \"histogram2dcontour\": [{\"colorbar\": {\"outlinewidth\": 0, \"ticks\": \"\"}, \"colorscale\": [[0.0, \"#0d0887\"], [0.1111111111111111, \"#46039f\"], [0.2222222222222222, \"#7201a8\"], [0.3333333333333333, \"#9c179e\"], [0.4444444444444444, \"#bd3786\"], [0.5555555555555556, \"#d8576b\"], [0.6666666666666666, \"#ed7953\"], [0.7777777777777778, \"#fb9f3a\"], [0.8888888888888888, \"#fdca26\"], [1.0, \"#f0f921\"]], \"type\": \"histogram2dcontour\"}], \"mesh3d\": [{\"colorbar\": {\"outlinewidth\": 0, \"ticks\": \"\"}, \"type\": \"mesh3d\"}], \"parcoords\": [{\"line\": {\"colorbar\": {\"outlinewidth\": 0, \"ticks\": \"\"}}, \"type\": \"parcoords\"}], \"pie\": [{\"automargin\": true, \"type\": \"pie\"}], \"scatter\": [{\"marker\": {\"colorbar\": {\"outlinewidth\": 0, \"ticks\": \"\"}}, \"type\": \"scatter\"}], \"scatter3d\": [{\"line\": {\"colorbar\": {\"outlinewidth\": 0, \"ticks\": \"\"}}, \"marker\": {\"colorbar\": {\"outlinewidth\": 0, \"ticks\": \"\"}}, \"type\": \"scatter3d\"}], \"scattercarpet\": [{\"marker\": {\"colorbar\": {\"outlinewidth\": 0, \"ticks\": \"\"}}, \"type\": \"scattercarpet\"}], \"scattergeo\": [{\"marker\": {\"colorbar\": {\"outlinewidth\": 0, \"ticks\": \"\"}}, \"type\": \"scattergeo\"}], \"scattergl\": [{\"marker\": {\"colorbar\": {\"outlinewidth\": 0, \"ticks\": \"\"}}, \"type\": \"scattergl\"}], \"scattermapbox\": [{\"marker\": {\"colorbar\": {\"outlinewidth\": 0, \"ticks\": \"\"}}, \"type\": \"scattermapbox\"}], \"scatterpolar\": [{\"marker\": {\"colorbar\": {\"outlinewidth\": 0, \"ticks\": \"\"}}, \"type\": \"scatterpolar\"}], \"scatterpolargl\": [{\"marker\": {\"colorbar\": {\"outlinewidth\": 0, \"ticks\": \"\"}}, \"type\": \"scatterpolargl\"}], \"scatterternary\": [{\"marker\": {\"colorbar\": {\"outlinewidth\": 0, \"ticks\": \"\"}}, \"type\": \"scatterternary\"}], \"surface\": [{\"colorbar\": {\"outlinewidth\": 0, \"ticks\": \"\"}, \"colorscale\": [[0.0, \"#0d0887\"], [0.1111111111111111, \"#46039f\"], [0.2222222222222222, \"#7201a8\"], [0.3333333333333333, \"#9c179e\"], [0.4444444444444444, \"#bd3786\"], [0.5555555555555556, \"#d8576b\"], [0.6666666666666666, \"#ed7953\"], [0.7777777777777778, \"#fb9f3a\"], [0.8888888888888888, \"#fdca26\"], [1.0, \"#f0f921\"]], \"type\": \"surface\"}], \"table\": [{\"cells\": {\"fill\": {\"color\": \"#EBF0F8\"}, \"line\": {\"color\": \"white\"}}, \"header\": {\"fill\": {\"color\": \"#C8D4E3\"}, \"line\": {\"color\": \"white\"}}, \"type\": \"table\"}]}, \"layout\": {\"annotationdefaults\": {\"arrowcolor\": \"#2a3f5f\", \"arrowhead\": 0, \"arrowwidth\": 1}, \"coloraxis\": {\"colorbar\": {\"outlinewidth\": 0, \"ticks\": \"\"}}, \"colorscale\": {\"diverging\": [[0, \"#8e0152\"], [0.1, \"#c51b7d\"], [0.2, \"#de77ae\"], [0.3, \"#f1b6da\"], [0.4, \"#fde0ef\"], [0.5, \"#f7f7f7\"], [0.6, \"#e6f5d0\"], [0.7, \"#b8e186\"], [0.8, \"#7fbc41\"], [0.9, \"#4d9221\"], [1, \"#276419\"]], \"sequential\": [[0.0, \"#0d0887\"], [0.1111111111111111, \"#46039f\"], [0.2222222222222222, \"#7201a8\"], [0.3333333333333333, \"#9c179e\"], [0.4444444444444444, \"#bd3786\"], [0.5555555555555556, \"#d8576b\"], [0.6666666666666666, \"#ed7953\"], [0.7777777777777778, \"#fb9f3a\"], [0.8888888888888888, \"#fdca26\"], [1.0, \"#f0f921\"]], \"sequentialminus\": [[0.0, \"#0d0887\"], [0.1111111111111111, \"#46039f\"], [0.2222222222222222, \"#7201a8\"], [0.3333333333333333, \"#9c179e\"], [0.4444444444444444, \"#bd3786\"], [0.5555555555555556, \"#d8576b\"], [0.6666666666666666, \"#ed7953\"], [0.7777777777777778, \"#fb9f3a\"], [0.8888888888888888, \"#fdca26\"], [1.0, \"#f0f921\"]]}, \"colorway\": [\"#636efa\", \"#EF553B\", \"#00cc96\", \"#ab63fa\", \"#FFA15A\", \"#19d3f3\", \"#FF6692\", \"#B6E880\", \"#FF97FF\", \"#FECB52\"], \"font\": {\"color\": \"#2a3f5f\"}, \"geo\": {\"bgcolor\": \"white\", \"lakecolor\": \"white\", \"landcolor\": \"#E5ECF6\", \"showlakes\": true, \"showland\": true, \"subunitcolor\": \"white\"}, \"hoverlabel\": {\"align\": \"left\"}, \"hovermode\": \"closest\", \"mapbox\": {\"style\": \"light\"}, \"paper_bgcolor\": \"white\", \"plot_bgcolor\": \"#E5ECF6\", \"polar\": {\"angularaxis\": {\"gridcolor\": \"white\", \"linecolor\": \"white\", \"ticks\": \"\"}, \"bgcolor\": \"#E5ECF6\", \"radialaxis\": {\"gridcolor\": \"white\", \"linecolor\": \"white\", \"ticks\": \"\"}}, \"scene\": {\"xaxis\": {\"backgroundcolor\": \"#E5ECF6\", \"gridcolor\": \"white\", \"gridwidth\": 2, \"linecolor\": \"white\", \"showbackground\": true, \"ticks\": \"\", \"zerolinecolor\": \"white\"}, \"yaxis\": {\"backgroundcolor\": \"#E5ECF6\", \"gridcolor\": \"white\", \"gridwidth\": 2, \"linecolor\": \"white\", \"showbackground\": true, \"ticks\": \"\", \"zerolinecolor\": \"white\"}, \"zaxis\": {\"backgroundcolor\": \"#E5ECF6\", \"gridcolor\": \"white\", \"gridwidth\": 2, \"linecolor\": \"white\", \"showbackground\": true, \"ticks\": \"\", \"zerolinecolor\": \"white\"}}, \"shapedefaults\": {\"line\": {\"color\": \"#2a3f5f\"}}, \"ternary\": {\"aaxis\": {\"gridcolor\": \"white\", \"linecolor\": \"white\", \"ticks\": \"\"}, \"baxis\": {\"gridcolor\": \"white\", \"linecolor\": \"white\", \"ticks\": \"\"}, \"bgcolor\": \"#E5ECF6\", \"caxis\": {\"gridcolor\": \"white\", \"linecolor\": \"white\", \"ticks\": \"\"}}, \"title\": {\"x\": 0.05}, \"xaxis\": {\"automargin\": true, \"gridcolor\": \"white\", \"linecolor\": \"white\", \"ticks\": \"\", \"title\": {\"standoff\": 15}, \"zerolinecolor\": \"white\", \"zerolinewidth\": 2}, \"yaxis\": {\"automargin\": true, \"gridcolor\": \"white\", \"linecolor\": \"white\", \"ticks\": \"\", \"title\": {\"standoff\": 15}, \"zerolinecolor\": \"white\", \"zerolinewidth\": 2}}}, \"title\": {\"text\": \"Plot of Playgrounds in Canberra\"}, \"width\": 800, \"xaxis\": {\"anchor\": \"y\", \"domain\": [0.0, 1.0], \"title\": {\"text\": \"long\"}}, \"yaxis\": {\"anchor\": \"x\", \"domain\": [0.0, 1.0], \"title\": {\"text\": \"lat\"}}},\n",
              "                        {\"responsive\": true}\n",
              "                    ).then(function(){\n",
              "                            \n",
              "var gd = document.getElementById('ec8fff59-31fb-4e80-8191-2c1a05064532');\n",
              "var x = new MutationObserver(function (mutations, observer) {{\n",
              "        var display = window.getComputedStyle(gd).display;\n",
              "        if (!display || display === 'none') {{\n",
              "            console.log([gd, 'removed!']);\n",
              "            Plotly.purge(gd);\n",
              "            observer.disconnect();\n",
              "        }}\n",
              "}});\n",
              "\n",
              "// Listen for the removal of the full notebook cells\n",
              "var notebookContainer = gd.closest('#notebook-container');\n",
              "if (notebookContainer) {{\n",
              "    x.observe(notebookContainer, {childList: true});\n",
              "}}\n",
              "\n",
              "// Listen for the clearing of the current output cell\n",
              "var outputEl = gd.closest('.output');\n",
              "if (outputEl) {{\n",
              "    x.observe(outputEl, {childList: true});\n",
              "}}\n",
              "\n",
              "                        })\n",
              "                };\n",
              "                \n",
              "            </script>\n",
              "        </div>\n",
              "</body>\n",
              "</html>"
            ]
          },
          "metadata": {
            "tags": []
          }
        }
      ]
    },
    {
      "cell_type": "code",
      "metadata": {
        "colab": {
          "base_uri": "https://localhost:8080/",
          "height": 298
        },
        "id": "lSealyeuJ204",
        "outputId": "aff33957-563f-4eaf-d674-f424b4b5e8c6"
      },
      "source": [
        "# Determine the best k value for the kmeans analysis. \n",
        "obs = pg_ll_only.copy()\n",
        "silhouette_score_values = list()\n",
        "number_of_clusters = range(4, 15)\n",
        "for i in number_of_clusters:\n",
        "        classifier = KMeans(i, init='k-means++', n_init=10,\n",
        "                            max_iter=300, tol=0.0001, random_state=10)\n",
        "        classifier.fit(obs)\n",
        "        labels = classifier.predict(obs)\n",
        "        silhouette_score_values.append(sklearn.metrics.silhouette_score(\n",
        "            obs, labels, metric='euclidean', random_state=0))\n",
        "\n",
        "plt.plot(number_of_clusters, silhouette_score_values)\n",
        "plt.title(\"Silhouette score values vs Numbers of Clusters \")\n",
        "plt.show()\n",
        "\n",
        "optimum_k = number_of_clusters[silhouette_score_values.index(\n",
        "     max(silhouette_score_values))]\n",
        "print(\"Optimal number of components is: \", optimum_k)"
      ],
      "execution_count": 152,
      "outputs": [
        {
          "output_type": "display_data",
          "data": {
            "image/png": "[encoded data removed]",
            "text/plain": [
              "<Figure size 432x288 with 1 Axes>"
            ]
          },
          "metadata": {
            "tags": [],
            "needs_background": "light"
          }
        },
        {
          "output_type": "stream",
          "text": [
            "Optimal number of components is:  5\n"
          ],
          "name": "stdout"
        }
      ]
    },
    {
      "cell_type": "markdown",
      "metadata": {
        "id": "3pIloHJq3Nbm"
      },
      "source": [
        "Now run the kmeans algorythm to find the centre points of each cluster. "
      ]
    },
    {
      "cell_type": "code",
      "metadata": {
        "colab": {
          "base_uri": "https://localhost:8080/"
        },
        "id": "xOqfrbFDeKH0",
        "outputId": "ff55d38c-4adf-4691-decc-f1d39298c54d"
      },
      "source": [
        "# set number of clusters as per the analysis above, 5 = optimum number. \n",
        "kclusters = 5\n",
        "\n",
        "# run k-means clustering\n",
        "k_means = KMeans(n_clusters=kclusters, random_state=0).fit(pg_ll_only)\n",
        "\n",
        "# check cluster labels generated for each row in the dataframe\n",
        "k_means_labels = k_means.labels_\n",
        "#print(k_means_labels)\n",
        "\n",
        "k_means_cluster_centers = k_means.cluster_centers_\n",
        "k_means_cluster_centers"
      ],
      "execution_count": 136,
      "outputs": [
        {
          "output_type": "execute_result",
          "data": {
            "text/plain": [
              "array([[149.06326453, -35.36003073],\n",
              "       [149.05012703, -35.22477652],\n",
              "       [149.12206904, -35.18173143],\n",
              "       [149.14009747, -35.28298371],\n",
              "       [149.09814754, -35.42487945]])"
            ]
          },
          "metadata": {
            "tags": []
          },
          "execution_count": 136
        }
      ]
    },
    {
      "cell_type": "code",
      "metadata": {
        "colab": {
          "base_uri": "https://localhost:8080/"
        },
        "id": "F3hXUsqwn2kn",
        "outputId": "503c78c2-3099-4ce5-988a-74746e764918"
      },
      "source": [
        "# Convert the array back into a dataframe for ease of use. \n",
        "clusters = pd.DataFrame(k_means_cluster_centers)\n",
        "\n",
        "# Label columns and \n",
        "clusters.columns = ['Long', 'Lat']\n",
        "\n",
        "print('The centre of each cluster using kmeans analysis is: \\n \\n', clusters)\n"
      ],
      "execution_count": 121,
      "outputs": [
        {
          "output_type": "stream",
          "text": [
            "The centre of each cluster using kmeans analysis is: \n",
            " \n",
            "          Long        Lat\n",
            "0  149.063265 -35.360031\n",
            "1  149.050127 -35.224777\n",
            "2  149.122069 -35.181731\n",
            "3  149.140097 -35.282984\n",
            "4  149.098148 -35.424879\n"
          ],
          "name": "stdout"
        }
      ]
    },
    {
      "cell_type": "markdown",
      "metadata": {
        "id": "Vv2JiIWn_cUz"
      },
      "source": [
        "Now lets show the data points and the kmeans cluster centres on a plot. "
      ]
    },
    {
      "cell_type": "code",
      "metadata": {
        "colab": {
          "base_uri": "https://localhost:8080/",
          "height": 607
        },
        "id": "fWaj_WmilAkK",
        "outputId": "ee0a0fcf-ee9f-4308-db26-2e7da7dc4d06"
      },
      "source": [
        "# initialize the plot with the specified dimensions.\n",
        "fig_k = plt.figure(figsize=(15, 10))\n",
        "\n",
        "# colors uses a color map, which will produce an array of colors based on\n",
        "# the number of labels. We use set(k_means_labels) to get the\n",
        "# unique labels.\n",
        "colors = plt.cm.Spectral(np.linspace(0, 1, len(set(k_means_labels))))\n",
        "\n",
        "X = pd.DataFrame(pg_ll_only, columns = ['long','lat'])\n",
        "\n",
        "# create a plot\n",
        "ax = fig_k.add_subplot(1, 1, 1)\n",
        "\n",
        "# loop through the data and plot the datapoints and centroids.\n",
        "# k will range from 0-3, which will match the number of clusters in the dataset.\n",
        "for k, col in zip(range(len([[4,4], [-2, -1], [2, -3], [1, 1]])), colors):\n",
        "      \n",
        "    # define the centroid, or cluster center.\n",
        "    cluster_center = k_means_cluster_centers[k]\n",
        "    \n",
        "    # plot the datapoints with color col.\n",
        "    ax.plot([X.long], [X.lat], 'w', markerfacecolor=col, marker='.')\n",
        "    \n",
        "    # plot the centroids with specified color, but with a darker outline\n",
        "    ax.plot(cluster_center[0], cluster_center[1], 'o', markerfacecolor=col,  markeredgecolor='k', markersize=6)\n",
        "\n",
        "# title of the plot\n",
        "ax.set_title('KMeans Centres')\n",
        "\n",
        "# show the plot\n",
        "plt.show()"
      ],
      "execution_count": 137,
      "outputs": [
        {
          "output_type": "display_data",
          "data": {
            "image/png": "[encoded data removed]",
            "text/plain": [
              "<Figure size 1080x720 with 1 Axes>"
            ]
          },
          "metadata": {
            "tags": [],
            "needs_background": "light"
          }
        }
      ]
    },
    {
      "cell_type": "markdown",
      "metadata": {
        "id": "56Spj7sn_mQS"
      },
      "source": [
        "# Map of Playground Clusters and Centres"
      ]
    },
    {
      "cell_type": "code",
      "metadata": {
        "colab": {
          "base_uri": "https://localhost:8080/"
        },
        "id": "3U2Eo1hdUZnk",
        "outputId": "a6ca9b69-d544-4343-9911-72e48d05768e"
      },
      "source": [
        "# Set the coordinates for the map to be built on. \n",
        "\n",
        "address_pg = 'Canberra, ACT'\n",
        "\n",
        "geolocator = Nominatim(user_agent=\"ny_explorer\")\n",
        "location_pg = geolocator.geocode(address)\n",
        "latitude_pg = location_pg.latitude\n",
        "longitude_pg = location_pg.longitude\n",
        "print('The geograpical coordinates of {} are {}, {}.'.format(address_pg, longitude_pg, latitude_pg))"
      ],
      "execution_count": 38,
      "outputs": [
        {
          "output_type": "stream",
          "text": [
            "The geograpical coordinates of Canberra, ACT are 149.1012676, -35.2975906.\n"
          ],
          "name": "stdout"
        }
      ]
    },
    {
      "cell_type": "code",
      "metadata": {
        "id": "3mO3CAc_UDwq"
      },
      "source": [
        "# create map of Canberra using latitude and longitude values\n",
        "\n",
        "map_pg = folium.Map(location=[latitude_pg, longitude_pg], zoom_start=11)\n",
        "\n",
        "# add markers to map for individual playgrounds\n",
        "for lat, lng, in zip(pg_ll_only['lat'], pg_ll_only['long'],):\n",
        "    label = '{}, {}'.format('Canberra', 'Playgrounds')\n",
        "    label = folium.Popup(label, parse_html=True)\n",
        "    folium.CircleMarker(\n",
        "        [lat, lng],\n",
        "        radius=5,\n",
        "        popup=label,\n",
        "        color='blue',\n",
        "        fill=True,\n",
        "        fill_color='#3186cc',\n",
        "        fill_opacity=0.7,\n",
        "        parse_html=False).add_to(map_pg)  \n",
        "\n",
        "# add markers to map for the k_means cluster centres\n",
        "for lat_c, lng_c, in zip(clusters['Lat'], clusters['Long'],):\n",
        "    label = '{}, {}'.format(\"Playground\", \"Centroids\")\n",
        "    label = folium.Popup(label, parse_html=True)\n",
        "    folium.CircleMarker(\n",
        "        [lat_c, lng_c],\n",
        "        radius=5,\n",
        "        popup=label,\n",
        "        color='red',\n",
        "        fill=True,\n",
        "        fill_color='#3186cc',\n",
        "        fill_opacity=0.7,\n",
        "        parse_html=False).add_to(map_pg)  \n",
        "\n",
        "map_pg\n",
        "map_pg.save(\"map.png\")\n",
        "map_pg.save('map.html')\n",
        "\n",
        "\n",
        "\n"
      ],
      "execution_count": 139,
      "outputs": []
    },
    {
      "cell_type": "code",
      "metadata": {
        "id": "LcK4-tb_Zt1W"
      },
      "source": [
        "def getNearbyVenues(names, latitudes, longitudes, radius=500):\n",
        "    \n",
        "    venues_list=[]\n",
        "    for name, lat, lng in zip(names, latitudes, longitudes):\n",
        "        print(name)\n",
        "            \n",
        "        # create the API request URL\n",
        "        url = 'https://api.foursquare.com/v2/venues/explore?&client_id={}&client_secret={}&v={}&ll={},{}&radius={}&limit={}'.format(\n",
        "            CLIENT_ID, \n",
        "            CLIENT_SECRET, \n",
        "            VERSION, \n",
        "            lat, \n",
        "            lng, \n",
        "            radius, \n",
        "            LIMIT)\n",
        "            \n",
        "        # make the GET request\n",
        "        results = requests.get(url).json()[\"response\"]['groups'][0]['items']\n",
        "        \n",
        "        # return only relevant information for each nearby venue\n",
        "        venues_list.append([(\n",
        "            name, \n",
        "            lat, \n",
        "            lng, \n",
        "            v['venue']['name'], \n",
        "            v['venue']['location']['lat'], \n",
        "            v['venue']['location']['lng'],  \n",
        "            v['venue']['categories'][0]['name']) for v in results])\n",
        "\n",
        "    nearby_venues = pd.DataFrame([item for venue_list in venues_list for item in venue_list])\n",
        "    nearby_venues.columns = ['Neighborhood', \n",
        "                  'Neighborhood Latitude', \n",
        "                  'Neighborhood Longitude', \n",
        "                  'Venue', \n",
        "                  'Venue Latitude', \n",
        "                  'Venue Longitude', \n",
        "                  'Venue Category']\n",
        "    \n",
        "    return(nearby_venues)"
      ],
      "execution_count": null,
      "outputs": []
    },
    {
      "cell_type": "code",
      "metadata": {
        "id": "XumGIIgsZ9vX"
      },
      "source": [
        "address = input(\"Firstly, before we get started please enter your location name (City, Country): \")\n",
        "\n",
        "geolocator = Nominatim(user_agent=\"my_agent\")\n",
        "location = geolocator.geocode(address)\n",
        "latitude1 = location.latitude\n",
        "longitude1 = location.longitude\n",
        "\n",
        "#print(latitude1, longitude1)\n",
        "\n",
        "response = yelp_api.search_query(term='coffee', latitude = {latitude1}, longitude = {longitude1},radius = 3000, sort_by='rating', limit=1)\n",
        "\n",
        "shop_json = response['businesses']\n",
        "shop_df = pd.json_normalize(shop_json)\n",
        "shop_df = shop_df.rename(columns={'location.display_address': 'address'})\n",
        "\n",
        "shop = shop_df.name[0] \n",
        "shop_location = shop_df.address[0]\n",
        "\n",
        "print('You should get a coffee from: {} at {} before reading my Capstone Project! :)\\n'.format(shop, shop_location))"
      ],
      "execution_count": null,
      "outputs": []
    },
    {
      "cell_type": "code",
      "metadata": {
        "id": "rNeAeb9oJ0E-"
      },
      "source": [
        ""
      ],
      "execution_count": null,
      "outputs": []
    },
    {
      "cell_type": "markdown",
      "metadata": {
        "id": "wnCEcD3wKkzf"
      },
      "source": [
        "# New Section"
      ]
    }
  ]
}