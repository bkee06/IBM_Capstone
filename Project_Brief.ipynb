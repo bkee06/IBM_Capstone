{
  "nbformat": 4,
  "nbformat_minor": 0,
  "metadata": {
    "colab": {
      "name": "Project_Brief.ipynb",
      "provenance": [],
      "collapsed_sections": [],
      "authorship_tag": "ABX9TyPHo0NsqiJ8A0hdzuZMMkTX",
      "include_colab_link": true
    },
    "kernelspec": {
      "name": "python3",
      "display_name": "Python 3"
    },
    "language_info": {
      "name": "python"
    }
  },
  "cells": [
    {
      "cell_type": "markdown",
      "metadata": {
        "id": "view-in-github",
        "colab_type": "text"
      },
      "source": [
        "<a href=\"https://colab.research.google.com/github/bkee06/IBM_Capstone/blob/main/Project_Brief.ipynb\" target=\"_parent\"><img src=\"https://colab.research.google.com/assets/colab-badge.svg\" alt=\"Open In Colab\"/></a>"
      ]
    },
    {
      "cell_type": "markdown",
      "metadata": {
        "id": "FVg0NxBuqvK1"
      },
      "source": [
        "# IBM Data Science Capstone - Bean by Drone\n",
        "\n",
        "This notebook contains the project brief for the final capstone project for IBM Applied Data Science. \n",
        "\n",
        "*Written by B Kee.* "
      ]
    },
    {
      "cell_type": "markdown",
      "metadata": {
        "id": "_nm9PZ6nqwFZ"
      },
      "source": [
        "# Project Aim:\n",
        "To analise the potential locations for drone delivery hubs based on proximity to playgrounds and subsequently select the highest rated Coffee Shop in each cluster to approach for a colaboration. \n",
        "\n",
        "# Background:\n",
        "My client has approached me with a business proposition to start a drone delivery company in Canberra, Australian Capital Territory (ACT), Australia. \n",
        "\n",
        "The initial stage will be market research and a proof of concept, hence they would like to deliver a single product that is highly consumable and small. \n",
        "\n",
        "To reduce initial risk and aid in ease of delivery, large open areas would be preferable for delivery locations. \n",
        "\n",
        "# Proposal:\n",
        "Product - I have suggested coffee is a product that is easy to produce, small and has high consumption rates. \n",
        "\n",
        "Delivery Zones - As Canberra has a large amount of public open space spread though out the populated area I have suggested that local playgrounds would provide a good delivery zone. \n",
        "\n",
        "Colaboration - To ensure customers participate in the initial trial a well recognised brand that is local and highly regarded in each location is required. \n",
        "\n",
        "# Datasets:\n",
        "\n",
        "The Australian Government has a variety of datasets at Data.gov.au. One such data set is a polygon shapefile of all playgrounds in Canberra. \n",
        "\n",
        "[Australian Government - Data.gov.au - ACT Playground Datasets.](https://data.gov.au/dataset/ds-actmapi-https%3A%2F%2Factmapi-actgov.opendata.arcgis.com%2Fdatasets%2F6baffe02451d47baa1c13626b21f43a8_6/details?q=act%20playgrounds)\n",
        "\n",
        "# API's:\n",
        "\n",
        "The use of the FourSquare product in Australia has been limited, hence there is a limited amount of data available via their API. \n",
        "\n",
        "Several alternate sources were proposed:\n",
        "\n",
        "*   Google Maps\n",
        "*   Trip Advisor\n",
        "*   Yelp\n",
        "\n",
        "I chose the Yelp API due to ease of use, cost and quantity of data. \n",
        "\n",
        "[Yelp - Web Data API Documentation](https://www.yelp.com/fusion)\n",
        "\n",
        "# Required Data:\n",
        "\n",
        "* Playground Locations: Provided via geoJson, csv or shapefile\n",
        "* Clusters: number required and location\n",
        "* Coffee Shop Information:\n",
        "\n",
        "> 1. Name, \n",
        "> 2. Customer Rating,\n",
        "> 3. Lat/LongList item\n",
        "\n",
        "# Analysis:\n",
        "\n",
        "* Playgrounds: Find single reference lat/long for each\n",
        "* Clusters: \n",
        "\n",
        "> 1. Determine the optimum number of Drone Hubs, \n",
        "> 2. Cluster playgrounds based on number of Hubs, \n",
        "> 3. Determine the center point of each Hub. \n",
        "\n",
        "* Coffee Shops: \n",
        "\n",
        "> 1. Locate based on Drone Hub locations, \n",
        "> 2. Select based on customer ratings. \n",
        "\n",
        "\n",
        "\n",
        "\n"
      ]
    },
    {
      "cell_type": "markdown",
      "metadata": {
        "id": "dT5P8FQzuWRz"
      },
      "source": [
        ""
      ]
    }
  ]
}