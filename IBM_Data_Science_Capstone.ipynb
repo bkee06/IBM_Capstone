{
  "nbformat": 4,
  "nbformat_minor": 0,
  "metadata": {
    "colab": {
      "name": "IBM_Data_Science_Capstone.ipynb",
      "provenance": [],
      "collapsed_sections": [],
      "authorship_tag": "ABX9TyOVFEpjRzHNlKph2Li2ICOX",
      "include_colab_link": true
    },
    "kernelspec": {
      "name": "python3",
      "display_name": "Python 3"
    },
    "language_info": {
      "name": "python"
    }
  },
  "cells": [
    {
      "cell_type": "markdown",
      "metadata": {
        "id": "view-in-github",
        "colab_type": "text"
      },
      "source": [
        "<a href=\"https://colab.research.google.com/github/bkee06/IBM_Capstone/blob/main/IBM_Data_Science_Capstone.ipynb\" target=\"_parent\"><img src=\"https://colab.research.google.com/assets/colab-badge.svg\" alt=\"Open In Colab\"/></a>"
      ]
    },
    {
      "cell_type": "markdown",
      "metadata": {
        "id": "a67A8nDjU5fW"
      },
      "source": [
        "# IBM Data Science Capstone\n",
        "\n",
        "This notebook contains content related to the final capstone project for IBM Applied Data Science. \n",
        "\n",
        "*Written by B Kee.* \n"
      ]
    },
    {
      "cell_type": "code",
      "metadata": {
        "id": "OCNHivsuUM6-"
      },
      "source": [
        "import pandas as pd\n",
        "import numpy as np\n"
      ],
      "execution_count": null,
      "outputs": []
    },
    {
      "cell_type": "code",
      "metadata": {
        "colab": {
          "base_uri": "https://localhost:8080/"
        },
        "id": "_zoBtbvaUoX2",
        "outputId": "2d246bb0-8a5e-41f4-ab4c-e8419a84565b"
      },
      "source": [
        "print (\"Hello Capstone Project Course!\")"
      ],
      "execution_count": null,
      "outputs": [
        {
          "output_type": "stream",
          "text": [
            "Hello Capstone Project Course!\n"
          ],
          "name": "stdout"
        }
      ]
    },
    {
      "cell_type": "code",
      "metadata": {
        "id": "7AdhILEC5lUu",
        "colab": {
          "base_uri": "https://localhost:8080/"
        },
        "outputId": "ad792bc4-3d45-422a-ec3d-ca791aefd842"
      },
      "source": [
        "import numpy as np # library to handle data in a vectorized manner\n",
        "\n",
        "import pandas as pd # library for data analsysis\n",
        "pd.set_option('display.max_columns', None)\n",
        "pd.set_option('display.max_rows', None)\n",
        "\n",
        "import json # library to handle JSON files\n",
        "\n",
        "#!conda install -c conda-forge geopy --yes # uncomment this line if you haven't completed the Foursquare API lab\n",
        "from geopy.geocoders import Nominatim # convert an address into latitude and longitude values\n",
        "\n",
        "import requests # library to handle requests\n",
        "from pandas.io.json import json_normalize # tranform JSON file into a pandas dataframe\n",
        "\n",
        "# Matplotlib and associated plotting modules\n",
        "import matplotlib.cm as cm\n",
        "import matplotlib.colors as colors\n",
        "\n",
        "# import k-means from clustering stage\n",
        "from sklearn.cluster import KMeans\n",
        "\n",
        "#!conda install -c conda-forge folium=0.5.0 --yes # uncomment this line if you haven't completed the Foursquare API lab\n",
        "import folium # map rendering library\n",
        "\n",
        "print('Libraries imported.')"
      ],
      "execution_count": 2,
      "outputs": [
        {
          "output_type": "stream",
          "text": [
            "Libraries imported.\n"
          ],
          "name": "stdout"
        }
      ]
    },
    {
      "cell_type": "code",
      "metadata": {
        "colab": {
          "base_uri": "https://localhost:8080/"
        },
        "id": "FsDDGJ3o039J",
        "outputId": "ea503829-ca26-4404-c250-860eb45e5e61"
      },
      "source": [
        "CLIENT_ID = 'BUSKT154CN5GOLNB4MUXKSMASWB2J42A4YERNRN0TQPEJCGS' # your Foursquare ID\n",
        "CLIENT_SECRET = 'ATWGVVUKGNTQOCYWSRHMSFK5BDP5UOZVUKTEYC11FQMNR0IR' # your Foursquare Secret\n",
        "ACCESS_TOKEN = 'EPPIFUUZD0X1QAPUFPMENBBTMBMGEWMOQFRXQY4VBMZWL3FZ' # your FourSquare Access Token\n",
        "VERSION = '20180604'\n",
        "LIMIT = 30\n",
        "print('Your credentails:')\n",
        "print('CLIENT_ID: ' + CLIENT_ID)\n",
        "print('CLIENT_SECRET:' + CLIENT_SECRET)"
      ],
      "execution_count": 3,
      "outputs": [
        {
          "output_type": "stream",
          "text": [
            "Your credentails:\n",
            "CLIENT_ID: BUSKT154CN5GOLNB4MUXKSMASWB2J42A4YERNRN0TQPEJCGS\n",
            "CLIENT_SECRET:ATWGVVUKGNTQOCYWSRHMSFK5BDP5UOZVUKTEYC11FQMNR0IR\n"
          ],
          "name": "stdout"
        }
      ]
    },
    {
      "cell_type": "markdown",
      "metadata": {
        "id": "suNunFeL1E07"
      },
      "source": [
        ""
      ]
    },
    {
      "cell_type": "code",
      "metadata": {
        "colab": {
          "base_uri": "https://localhost:8080/"
        },
        "id": "FxWbSw8f1F6_",
        "outputId": "f67727d0-3121-4b56-93e8-7337d38c819d"
      },
      "source": [
        "address = '6 Rivett St, Hackett, ACT, Australia'\n",
        "\n",
        "geolocator = Nominatim(user_agent=\"foursquare_agent\")\n",
        "location = geolocator.geocode(address)\n",
        "latitude = location.latitude\n",
        "longitude = location.longitude\n",
        "print(latitude, longitude)"
      ],
      "execution_count": 4,
      "outputs": [
        {
          "output_type": "stream",
          "text": [
            "-35.2447202 149.166337\n"
          ],
          "name": "stdout"
        }
      ]
    },
    {
      "cell_type": "code",
      "metadata": {
        "colab": {
          "base_uri": "https://localhost:8080/",
          "height": 465
        },
        "id": "vDvRIqo-4EW_",
        "outputId": "5670c33d-eb98-4868-ee17-4a3395108a45"
      },
      "source": [
        "search_query = 'Italian'\n",
        "radius = 5000\n",
        "print(search_query + ' .... OK!')\n",
        "\n",
        "url = 'https://api.foursquare.com/v2/venues/search?client_id={}&client_secret={}&ll={},{}&oauth_token={}&v={}&query={}&radius={}&limit={}'.format(CLIENT_ID, CLIENT_SECRET, latitude, longitude,ACCESS_TOKEN, VERSION, search_query, radius, LIMIT)\n",
        "url\n",
        "\n",
        "results = requests.get(url).json()\n",
        "\n",
        "# assign relevant part of JSON to venues\n",
        "venues = results['response']['venues']\n",
        "\n",
        "# tranform venues into a dataframe\n",
        "dataframe = json_normalize(venues)\n",
        "dataframe.head()"
      ],
      "execution_count": 9,
      "outputs": [
        {
          "output_type": "stream",
          "text": [
            "Italian .... OK!\n"
          ],
          "name": "stdout"
        },
        {
          "output_type": "stream",
          "text": [
            "/usr/local/lib/python3.7/dist-packages/ipykernel_launcher.py:14: FutureWarning: pandas.io.json.json_normalize is deprecated, use pandas.json_normalize instead\n",
            "  \n"
          ],
          "name": "stderr"
        },
        {
          "output_type": "execute_result",
          "data": {
            "text/html": [
              "<div>\n",
              "<style scoped>\n",
              "    .dataframe tbody tr th:only-of-type {\n",
              "        vertical-align: middle;\n",
              "    }\n",
              "\n",
              "    .dataframe tbody tr th {\n",
              "        vertical-align: top;\n",
              "    }\n",
              "\n",
              "    .dataframe thead th {\n",
              "        text-align: right;\n",
              "    }\n",
              "</style>\n",
              "<table border=\"1\" class=\"dataframe\">\n",
              "  <thead>\n",
              "    <tr style=\"text-align: right;\">\n",
              "      <th></th>\n",
              "      <th>id</th>\n",
              "      <th>name</th>\n",
              "      <th>categories</th>\n",
              "      <th>referralId</th>\n",
              "      <th>hasPerk</th>\n",
              "      <th>location.address</th>\n",
              "      <th>location.lat</th>\n",
              "      <th>location.lng</th>\n",
              "      <th>location.labeledLatLngs</th>\n",
              "      <th>location.distance</th>\n",
              "      <th>location.postalCode</th>\n",
              "      <th>location.cc</th>\n",
              "      <th>location.city</th>\n",
              "      <th>location.state</th>\n",
              "      <th>location.country</th>\n",
              "      <th>location.formattedAddress</th>\n",
              "    </tr>\n",
              "  </thead>\n",
              "  <tbody>\n",
              "    <tr>\n",
              "      <th>0</th>\n",
              "      <td>5f823ad27a1eff27bf5f246e</td>\n",
              "      <td>The Italian Place Providore &amp; Bottega</td>\n",
              "      <td>[{'id': '4bf58dd8d48988d146941735', 'name': 'D...</td>\n",
              "      <td>v-1622707152</td>\n",
              "      <td>False</td>\n",
              "      <td>40 Mort St</td>\n",
              "      <td>-35.272568</td>\n",
              "      <td>149.131770</td>\n",
              "      <td>[{'label': 'display', 'lat': -35.272568, 'lng'...</td>\n",
              "      <td>4413</td>\n",
              "      <td>2612</td>\n",
              "      <td>AU</td>\n",
              "      <td>Braddon</td>\n",
              "      <td>ACT</td>\n",
              "      <td>Australia</td>\n",
              "      <td>[40 Mort St, Braddon ACT 2612]</td>\n",
              "    </tr>\n",
              "    <tr>\n",
              "      <th>1</th>\n",
              "      <td>5c9ac58461f070002ce9e443</td>\n",
              "      <td>The Italian Place Enoteca</td>\n",
              "      <td>[{'id': '4bf58dd8d48988d110941735', 'name': 'I...</td>\n",
              "      <td>v-1622707152</td>\n",
              "      <td>False</td>\n",
              "      <td>38 Mort St</td>\n",
              "      <td>-35.272866</td>\n",
              "      <td>149.131685</td>\n",
              "      <td>[{'label': 'display', 'lat': -35.2728655169897...</td>\n",
              "      <td>4442</td>\n",
              "      <td>2612</td>\n",
              "      <td>AU</td>\n",
              "      <td>Canberra</td>\n",
              "      <td>ACT</td>\n",
              "      <td>Australia</td>\n",
              "      <td>[38 Mort St, Canberra ACT 2612]</td>\n",
              "    </tr>\n",
              "    <tr>\n",
              "      <th>2</th>\n",
              "      <td>4b8e3051f964a520d41a33e3</td>\n",
              "      <td>Italian and Sons</td>\n",
              "      <td>[{'id': '4bf58dd8d48988d110941735', 'name': 'I...</td>\n",
              "      <td>v-1622707152</td>\n",
              "      <td>False</td>\n",
              "      <td>7 Lonsdale St</td>\n",
              "      <td>-35.275054</td>\n",
              "      <td>149.132423</td>\n",
              "      <td>[{'label': 'display', 'lat': -35.2750535796285...</td>\n",
              "      <td>4572</td>\n",
              "      <td>2612</td>\n",
              "      <td>AU</td>\n",
              "      <td>Braddon</td>\n",
              "      <td>ACT</td>\n",
              "      <td>Australia</td>\n",
              "      <td>[7 Lonsdale St, Braddon ACT 2612]</td>\n",
              "    </tr>\n",
              "    <tr>\n",
              "      <th>3</th>\n",
              "      <td>6098a2ad2aebc24d5009ab8b</td>\n",
              "      <td>Italian Food P'sghetti Bar</td>\n",
              "      <td>[{'id': '4bf58dd8d48988d16e941735', 'name': 'F...</td>\n",
              "      <td>v-1622707152</td>\n",
              "      <td>False</td>\n",
              "      <td>Shop 8/40 Marcus Clarke St</td>\n",
              "      <td>-35.283252</td>\n",
              "      <td>149.128660</td>\n",
              "      <td>[{'label': 'display', 'lat': -35.2832522804833...</td>\n",
              "      <td>5488</td>\n",
              "      <td>2601</td>\n",
              "      <td>AU</td>\n",
              "      <td>Canberra</td>\n",
              "      <td>ACT</td>\n",
              "      <td>Australia</td>\n",
              "      <td>[Shop 8/40 Marcus Clarke St, Canberra ACT 2601]</td>\n",
              "    </tr>\n",
              "  </tbody>\n",
              "</table>\n",
              "</div>"
            ],
            "text/plain": [
              "                         id                                   name  \\\n",
              "0  5f823ad27a1eff27bf5f246e  The Italian Place Providore & Bottega   \n",
              "1  5c9ac58461f070002ce9e443              The Italian Place Enoteca   \n",
              "2  4b8e3051f964a520d41a33e3                       Italian and Sons   \n",
              "3  6098a2ad2aebc24d5009ab8b             Italian Food P'sghetti Bar   \n",
              "\n",
              "                                          categories    referralId  hasPerk  \\\n",
              "0  [{'id': '4bf58dd8d48988d146941735', 'name': 'D...  v-1622707152    False   \n",
              "1  [{'id': '4bf58dd8d48988d110941735', 'name': 'I...  v-1622707152    False   \n",
              "2  [{'id': '4bf58dd8d48988d110941735', 'name': 'I...  v-1622707152    False   \n",
              "3  [{'id': '4bf58dd8d48988d16e941735', 'name': 'F...  v-1622707152    False   \n",
              "\n",
              "             location.address  location.lat  location.lng  \\\n",
              "0                  40 Mort St    -35.272568    149.131770   \n",
              "1                  38 Mort St    -35.272866    149.131685   \n",
              "2               7 Lonsdale St    -35.275054    149.132423   \n",
              "3  Shop 8/40 Marcus Clarke St    -35.283252    149.128660   \n",
              "\n",
              "                             location.labeledLatLngs  location.distance  \\\n",
              "0  [{'label': 'display', 'lat': -35.272568, 'lng'...               4413   \n",
              "1  [{'label': 'display', 'lat': -35.2728655169897...               4442   \n",
              "2  [{'label': 'display', 'lat': -35.2750535796285...               4572   \n",
              "3  [{'label': 'display', 'lat': -35.2832522804833...               5488   \n",
              "\n",
              "  location.postalCode location.cc location.city location.state  \\\n",
              "0                2612          AU       Braddon            ACT   \n",
              "1                2612          AU      Canberra            ACT   \n",
              "2                2612          AU       Braddon            ACT   \n",
              "3                2601          AU      Canberra            ACT   \n",
              "\n",
              "  location.country                        location.formattedAddress  \n",
              "0        Australia                   [40 Mort St, Braddon ACT 2612]  \n",
              "1        Australia                  [38 Mort St, Canberra ACT 2612]  \n",
              "2        Australia                [7 Lonsdale St, Braddon ACT 2612]  \n",
              "3        Australia  [Shop 8/40 Marcus Clarke St, Canberra ACT 2601]  "
            ]
          },
          "metadata": {
            "tags": []
          },
          "execution_count": 9
        }
      ]
    },
    {
      "cell_type": "code",
      "metadata": {
        "colab": {
          "base_uri": "https://localhost:8080/",
          "height": 241
        },
        "id": "aQUnqVyb4pF8",
        "outputId": "e4464404-fb16-4771-bab6-7a978b2bd411"
      },
      "source": [
        "# keep only columns that include venue name, and anything that is associated with location\n",
        "filtered_columns = ['name', 'categories'] + [col for col in dataframe.columns if col.startswith('location.')] + ['id']\n",
        "dataframe_filtered = dataframe.loc[:, filtered_columns]\n",
        "\n",
        "# function that extracts the category of the venue\n",
        "def get_category_type(row):\n",
        "    try:\n",
        "        categories_list = row['categories']\n",
        "    except:\n",
        "        categories_list = row['venue.categories']\n",
        "        \n",
        "    if len(categories_list) == 0:\n",
        "        return None\n",
        "    else:\n",
        "        return categories_list[0]['name']\n",
        "\n",
        "# filter the category for each row\n",
        "dataframe_filtered['categories'] = dataframe_filtered.apply(get_category_type, axis=1)\n",
        "\n",
        "# clean column names by keeping only last term\n",
        "dataframe_filtered.columns = [column.split('.')[-1] for column in dataframe_filtered.columns]\n",
        "\n",
        "dataframe_filtered"
      ],
      "execution_count": 10,
      "outputs": [
        {
          "output_type": "execute_result",
          "data": {
            "text/html": [
              "<div>\n",
              "<style scoped>\n",
              "    .dataframe tbody tr th:only-of-type {\n",
              "        vertical-align: middle;\n",
              "    }\n",
              "\n",
              "    .dataframe tbody tr th {\n",
              "        vertical-align: top;\n",
              "    }\n",
              "\n",
              "    .dataframe thead th {\n",
              "        text-align: right;\n",
              "    }\n",
              "</style>\n",
              "<table border=\"1\" class=\"dataframe\">\n",
              "  <thead>\n",
              "    <tr style=\"text-align: right;\">\n",
              "      <th></th>\n",
              "      <th>name</th>\n",
              "      <th>categories</th>\n",
              "      <th>address</th>\n",
              "      <th>lat</th>\n",
              "      <th>lng</th>\n",
              "      <th>labeledLatLngs</th>\n",
              "      <th>distance</th>\n",
              "      <th>postalCode</th>\n",
              "      <th>cc</th>\n",
              "      <th>city</th>\n",
              "      <th>state</th>\n",
              "      <th>country</th>\n",
              "      <th>formattedAddress</th>\n",
              "      <th>id</th>\n",
              "    </tr>\n",
              "  </thead>\n",
              "  <tbody>\n",
              "    <tr>\n",
              "      <th>0</th>\n",
              "      <td>The Italian Place Providore &amp; Bottega</td>\n",
              "      <td>Deli / Bodega</td>\n",
              "      <td>40 Mort St</td>\n",
              "      <td>-35.272568</td>\n",
              "      <td>149.131770</td>\n",
              "      <td>[{'label': 'display', 'lat': -35.272568, 'lng'...</td>\n",
              "      <td>4413</td>\n",
              "      <td>2612</td>\n",
              "      <td>AU</td>\n",
              "      <td>Braddon</td>\n",
              "      <td>ACT</td>\n",
              "      <td>Australia</td>\n",
              "      <td>[40 Mort St, Braddon ACT 2612]</td>\n",
              "      <td>5f823ad27a1eff27bf5f246e</td>\n",
              "    </tr>\n",
              "    <tr>\n",
              "      <th>1</th>\n",
              "      <td>The Italian Place Enoteca</td>\n",
              "      <td>Italian Restaurant</td>\n",
              "      <td>38 Mort St</td>\n",
              "      <td>-35.272866</td>\n",
              "      <td>149.131685</td>\n",
              "      <td>[{'label': 'display', 'lat': -35.2728655169897...</td>\n",
              "      <td>4442</td>\n",
              "      <td>2612</td>\n",
              "      <td>AU</td>\n",
              "      <td>Canberra</td>\n",
              "      <td>ACT</td>\n",
              "      <td>Australia</td>\n",
              "      <td>[38 Mort St, Canberra ACT 2612]</td>\n",
              "      <td>5c9ac58461f070002ce9e443</td>\n",
              "    </tr>\n",
              "    <tr>\n",
              "      <th>2</th>\n",
              "      <td>Italian and Sons</td>\n",
              "      <td>Italian Restaurant</td>\n",
              "      <td>7 Lonsdale St</td>\n",
              "      <td>-35.275054</td>\n",
              "      <td>149.132423</td>\n",
              "      <td>[{'label': 'display', 'lat': -35.2750535796285...</td>\n",
              "      <td>4572</td>\n",
              "      <td>2612</td>\n",
              "      <td>AU</td>\n",
              "      <td>Braddon</td>\n",
              "      <td>ACT</td>\n",
              "      <td>Australia</td>\n",
              "      <td>[7 Lonsdale St, Braddon ACT 2612]</td>\n",
              "      <td>4b8e3051f964a520d41a33e3</td>\n",
              "    </tr>\n",
              "    <tr>\n",
              "      <th>3</th>\n",
              "      <td>Italian Food P'sghetti Bar</td>\n",
              "      <td>Fast Food Restaurant</td>\n",
              "      <td>Shop 8/40 Marcus Clarke St</td>\n",
              "      <td>-35.283252</td>\n",
              "      <td>149.128660</td>\n",
              "      <td>[{'label': 'display', 'lat': -35.2832522804833...</td>\n",
              "      <td>5488</td>\n",
              "      <td>2601</td>\n",
              "      <td>AU</td>\n",
              "      <td>Canberra</td>\n",
              "      <td>ACT</td>\n",
              "      <td>Australia</td>\n",
              "      <td>[Shop 8/40 Marcus Clarke St, Canberra ACT 2601]</td>\n",
              "      <td>6098a2ad2aebc24d5009ab8b</td>\n",
              "    </tr>\n",
              "  </tbody>\n",
              "</table>\n",
              "</div>"
            ],
            "text/plain": [
              "                                    name            categories  \\\n",
              "0  The Italian Place Providore & Bottega         Deli / Bodega   \n",
              "1              The Italian Place Enoteca    Italian Restaurant   \n",
              "2                       Italian and Sons    Italian Restaurant   \n",
              "3             Italian Food P'sghetti Bar  Fast Food Restaurant   \n",
              "\n",
              "                      address        lat         lng  \\\n",
              "0                  40 Mort St -35.272568  149.131770   \n",
              "1                  38 Mort St -35.272866  149.131685   \n",
              "2               7 Lonsdale St -35.275054  149.132423   \n",
              "3  Shop 8/40 Marcus Clarke St -35.283252  149.128660   \n",
              "\n",
              "                                      labeledLatLngs  distance postalCode  cc  \\\n",
              "0  [{'label': 'display', 'lat': -35.272568, 'lng'...      4413       2612  AU   \n",
              "1  [{'label': 'display', 'lat': -35.2728655169897...      4442       2612  AU   \n",
              "2  [{'label': 'display', 'lat': -35.2750535796285...      4572       2612  AU   \n",
              "3  [{'label': 'display', 'lat': -35.2832522804833...      5488       2601  AU   \n",
              "\n",
              "       city state    country                                 formattedAddress  \\\n",
              "0   Braddon   ACT  Australia                   [40 Mort St, Braddon ACT 2612]   \n",
              "1  Canberra   ACT  Australia                  [38 Mort St, Canberra ACT 2612]   \n",
              "2   Braddon   ACT  Australia                [7 Lonsdale St, Braddon ACT 2612]   \n",
              "3  Canberra   ACT  Australia  [Shop 8/40 Marcus Clarke St, Canberra ACT 2601]   \n",
              "\n",
              "                         id  \n",
              "0  5f823ad27a1eff27bf5f246e  \n",
              "1  5c9ac58461f070002ce9e443  \n",
              "2  4b8e3051f964a520d41a33e3  \n",
              "3  6098a2ad2aebc24d5009ab8b  "
            ]
          },
          "metadata": {
            "tags": []
          },
          "execution_count": 10
        }
      ]
    },
    {
      "cell_type": "code",
      "metadata": {
        "colab": {
          "base_uri": "https://localhost:8080/",
          "height": 1000
        },
        "id": "zJp6OreS42pp",
        "outputId": "d64dc735-f6e7-405e-c6e2-cd7ade066b87"
      },
      "source": [
        "venues_map = folium.Map(location=[latitude, longitude], zoom_start=13) # generate map centred around the Conrad Hotel\n",
        "\n",
        "# add a red circle marker to represent the Conrad Hotel\n",
        "folium.CircleMarker(\n",
        "    [latitude, longitude],\n",
        "    radius=10,\n",
        "    color='red',\n",
        "    popup='Conrad Hotel',\n",
        "    fill = True,\n",
        "    fill_color = 'red',\n",
        "    fill_opacity = 0.6\n",
        ").add_to(venues_map)\n",
        "\n",
        "# add the Italian restaurants as blue circle markers\n",
        "for lat, lng, label in zip(dataframe_filtered.lat, dataframe_filtered.lng, dataframe_filtered.categories):\n",
        "    folium.CircleMarker(\n",
        "        [lat, lng],\n",
        "        radius=5,\n",
        "        color='blue',\n",
        "        popup=label,\n",
        "        fill = True,\n",
        "        fill_color='blue',\n",
        "        fill_opacity=0.6\n",
        "    ).add_to(venues_map)\n",
        "\n",
        "# display map\n",
        "venues_map"
      ],
      "execution_count": 11,
      "outputs": [
        {
          "output_type": "execute_result",
          "data": {
            "text/html": [
              "<div style=\"width:100%;\"><div style=\"position:relative;width:100%;height:0;padding-bottom:60%;\"><span style=\"color:#565656\">Make this Notebook Trusted to load map: File -> Trust Notebook</span><iframe src=\"about:blank\" style=\"position:absolute;width:100%;height:100%;left:0;top:0;border:none !important;\" data-html=%3C%21DOCTYPE%20html%3E%0A%3Chead%3E%20%20%20%20%0A%20%20%20%20%3Cmeta%20http-equiv%3D%22content-type%22%20content%3D%22text/html%3B%20charset%3DUTF-8%22%20/%3E%0A%20%20%20%20%3Cscript%3EL_PREFER_CANVAS%3Dfalse%3B%20L_NO_TOUCH%3Dfalse%3B%20L_DISABLE_3D%3Dfalse%3B%3C/script%3E%0A%20%20%20%20%3Cscript%20src%3D%22https%3A//cdn.jsdelivr.net/npm/leaflet%401.4.0/dist/leaflet.js%22%3E%3C/script%3E%0A%20%20%20%20%3Cscript%20src%3D%22https%3A//code.jquery.com/jquery-1.12.4.min.js%22%3E%3C/script%3E%0A%20%20%20%20%3Cscript%20src%3D%22https%3A//maxcdn.bootstrapcdn.com/bootstrap/3.2.0/js/bootstrap.min.js%22%3E%3C/script%3E%0A%20%20%20%20%3Cscript%20src%3D%22https%3A//cdnjs.cloudflare.com/ajax/libs/Leaflet.awesome-markers/2.0.2/leaflet.awesome-markers.js%22%3E%3C/script%3E%0A%20%20%20%20%3Clink%20rel%3D%22stylesheet%22%20href%3D%22https%3A//cdn.jsdelivr.net/npm/leaflet%401.4.0/dist/leaflet.css%22/%3E%0A%20%20%20%20%3Clink%20rel%3D%22stylesheet%22%20href%3D%22https%3A//maxcdn.bootstrapcdn.com/bootstrap/3.2.0/css/bootstrap.min.css%22/%3E%0A%20%20%20%20%3Clink%20rel%3D%22stylesheet%22%20href%3D%22https%3A//maxcdn.bootstrapcdn.com/bootstrap/3.2.0/css/bootstrap-theme.min.css%22/%3E%0A%20%20%20%20%3Clink%20rel%3D%22stylesheet%22%20href%3D%22https%3A//maxcdn.bootstrapcdn.com/font-awesome/4.6.3/css/font-awesome.min.css%22/%3E%0A%20%20%20%20%3Clink%20rel%3D%22stylesheet%22%20href%3D%22https%3A//cdnjs.cloudflare.com/ajax/libs/Leaflet.awesome-markers/2.0.2/leaflet.awesome-markers.css%22/%3E%0A%20%20%20%20%3Clink%20rel%3D%22stylesheet%22%20href%3D%22https%3A//rawcdn.githack.com/python-visualization/folium/master/folium/templates/leaflet.awesome.rotate.css%22/%3E%0A%20%20%20%20%3Cstyle%3Ehtml%2C%20body%20%7Bwidth%3A%20100%25%3Bheight%3A%20100%25%3Bmargin%3A%200%3Bpadding%3A%200%3B%7D%3C/style%3E%0A%20%20%20%20%3Cstyle%3E%23map%20%7Bposition%3Aabsolute%3Btop%3A0%3Bbottom%3A0%3Bright%3A0%3Bleft%3A0%3B%7D%3C/style%3E%0A%20%20%20%20%0A%20%20%20%20%3Cmeta%20name%3D%22viewport%22%20content%3D%22width%3Ddevice-width%2C%0A%20%20%20%20%20%20%20%20initial-scale%3D1.0%2C%20maximum-scale%3D1.0%2C%20user-scalable%3Dno%22%20/%3E%0A%20%20%20%20%3Cstyle%3E%23map_12ad63279060452eafeab4e561748459%20%7B%0A%20%20%20%20%20%20%20%20position%3A%20relative%3B%0A%20%20%20%20%20%20%20%20width%3A%20100.0%25%3B%0A%20%20%20%20%20%20%20%20height%3A%20100.0%25%3B%0A%20%20%20%20%20%20%20%20left%3A%200.0%25%3B%0A%20%20%20%20%20%20%20%20top%3A%200.0%25%3B%0A%20%20%20%20%20%20%20%20%7D%0A%20%20%20%20%3C/style%3E%0A%3C/head%3E%0A%3Cbody%3E%20%20%20%20%0A%20%20%20%20%0A%20%20%20%20%3Cdiv%20class%3D%22folium-map%22%20id%3D%22map_12ad63279060452eafeab4e561748459%22%20%3E%3C/div%3E%0A%3C/body%3E%0A%3Cscript%3E%20%20%20%20%0A%20%20%20%20%0A%20%20%20%20%0A%20%20%20%20%20%20%20%20var%20bounds%20%3D%20null%3B%0A%20%20%20%20%0A%0A%20%20%20%20var%20map_12ad63279060452eafeab4e561748459%20%3D%20L.map%28%0A%20%20%20%20%20%20%20%20%27map_12ad63279060452eafeab4e561748459%27%2C%20%7B%0A%20%20%20%20%20%20%20%20center%3A%20%5B-35.2447202%2C%20149.166337%5D%2C%0A%20%20%20%20%20%20%20%20zoom%3A%2013%2C%0A%20%20%20%20%20%20%20%20maxBounds%3A%20bounds%2C%0A%20%20%20%20%20%20%20%20layers%3A%20%5B%5D%2C%0A%20%20%20%20%20%20%20%20worldCopyJump%3A%20false%2C%0A%20%20%20%20%20%20%20%20crs%3A%20L.CRS.EPSG3857%2C%0A%20%20%20%20%20%20%20%20zoomControl%3A%20true%2C%0A%20%20%20%20%20%20%20%20%7D%29%3B%0A%0A%0A%20%20%20%20%0A%20%20%20%20var%20tile_layer_eb72a3a582fa4e9a9bab9523949b1f6d%20%3D%20L.tileLayer%28%0A%20%20%20%20%20%20%20%20%27https%3A//%7Bs%7D.tile.openstreetmap.org/%7Bz%7D/%7Bx%7D/%7By%7D.png%27%2C%0A%20%20%20%20%20%20%20%20%7B%0A%20%20%20%20%20%20%20%20%22attribution%22%3A%20null%2C%0A%20%20%20%20%20%20%20%20%22detectRetina%22%3A%20false%2C%0A%20%20%20%20%20%20%20%20%22maxNativeZoom%22%3A%2018%2C%0A%20%20%20%20%20%20%20%20%22maxZoom%22%3A%2018%2C%0A%20%20%20%20%20%20%20%20%22minZoom%22%3A%200%2C%0A%20%20%20%20%20%20%20%20%22noWrap%22%3A%20false%2C%0A%20%20%20%20%20%20%20%20%22opacity%22%3A%201%2C%0A%20%20%20%20%20%20%20%20%22subdomains%22%3A%20%22abc%22%2C%0A%20%20%20%20%20%20%20%20%22tms%22%3A%20false%0A%7D%29.addTo%28map_12ad63279060452eafeab4e561748459%29%3B%0A%20%20%20%20%0A%20%20%20%20%20%20%20%20%20%20%20%20var%20circle_marker_75e7ed19317648ecb9c5567e3aa4da2a%20%3D%20L.circleMarker%28%0A%20%20%20%20%20%20%20%20%20%20%20%20%20%20%20%20%5B-35.2447202%2C%20149.166337%5D%2C%0A%20%20%20%20%20%20%20%20%20%20%20%20%20%20%20%20%7B%0A%20%20%22bubblingMouseEvents%22%3A%20true%2C%0A%20%20%22color%22%3A%20%22red%22%2C%0A%20%20%22dashArray%22%3A%20null%2C%0A%20%20%22dashOffset%22%3A%20null%2C%0A%20%20%22fill%22%3A%20true%2C%0A%20%20%22fillColor%22%3A%20%22red%22%2C%0A%20%20%22fillOpacity%22%3A%200.6%2C%0A%20%20%22fillRule%22%3A%20%22evenodd%22%2C%0A%20%20%22lineCap%22%3A%20%22round%22%2C%0A%20%20%22lineJoin%22%3A%20%22round%22%2C%0A%20%20%22opacity%22%3A%201.0%2C%0A%20%20%22radius%22%3A%2010%2C%0A%20%20%22stroke%22%3A%20true%2C%0A%20%20%22weight%22%3A%203%0A%7D%0A%20%20%20%20%20%20%20%20%20%20%20%20%20%20%20%20%29%0A%20%20%20%20%20%20%20%20%20%20%20%20%20%20%20%20.addTo%28map_12ad63279060452eafeab4e561748459%29%3B%0A%20%20%20%20%20%20%20%20%20%20%20%20%0A%20%20%20%20%0A%20%20%20%20%20%20%20%20%20%20%20%20var%20popup_2fb7f0c4cad8481cad5475462d949188%20%3D%20L.popup%28%7BmaxWidth%3A%20%27100%25%27%0A%20%20%20%20%20%20%20%20%20%20%20%20%0A%20%20%20%20%20%20%20%20%20%20%20%20%7D%29%3B%0A%0A%20%20%20%20%20%20%20%20%20%20%20%20%0A%20%20%20%20%20%20%20%20%20%20%20%20%20%20%20%20var%20html_e5db8f6267184428baefaf441795aeec%20%3D%20%24%28%60%3Cdiv%20id%3D%22html_e5db8f6267184428baefaf441795aeec%22%20style%3D%22width%3A%20100.0%25%3B%20height%3A%20100.0%25%3B%22%3EConrad%20Hotel%3C/div%3E%60%29%5B0%5D%3B%0A%20%20%20%20%20%20%20%20%20%20%20%20%20%20%20%20popup_2fb7f0c4cad8481cad5475462d949188.setContent%28html_e5db8f6267184428baefaf441795aeec%29%3B%0A%20%20%20%20%20%20%20%20%20%20%20%20%0A%0A%20%20%20%20%20%20%20%20%20%20%20%20circle_marker_75e7ed19317648ecb9c5567e3aa4da2a.bindPopup%28popup_2fb7f0c4cad8481cad5475462d949188%29%0A%20%20%20%20%20%20%20%20%20%20%20%20%3B%0A%0A%20%20%20%20%20%20%20%20%20%20%20%20%0A%20%20%20%20%20%20%20%20%0A%20%20%20%20%0A%20%20%20%20%20%20%20%20%20%20%20%20var%20circle_marker_4be88b364baf4ef1b6b728f29b37a8d6%20%3D%20L.circleMarker%28%0A%20%20%20%20%20%20%20%20%20%20%20%20%20%20%20%20%5B-35.272568%2C%20149.13177%5D%2C%0A%20%20%20%20%20%20%20%20%20%20%20%20%20%20%20%20%7B%0A%20%20%22bubblingMouseEvents%22%3A%20true%2C%0A%20%20%22color%22%3A%20%22blue%22%2C%0A%20%20%22dashArray%22%3A%20null%2C%0A%20%20%22dashOffset%22%3A%20null%2C%0A%20%20%22fill%22%3A%20true%2C%0A%20%20%22fillColor%22%3A%20%22blue%22%2C%0A%20%20%22fillOpacity%22%3A%200.6%2C%0A%20%20%22fillRule%22%3A%20%22evenodd%22%2C%0A%20%20%22lineCap%22%3A%20%22round%22%2C%0A%20%20%22lineJoin%22%3A%20%22round%22%2C%0A%20%20%22opacity%22%3A%201.0%2C%0A%20%20%22radius%22%3A%205%2C%0A%20%20%22stroke%22%3A%20true%2C%0A%20%20%22weight%22%3A%203%0A%7D%0A%20%20%20%20%20%20%20%20%20%20%20%20%20%20%20%20%29%0A%20%20%20%20%20%20%20%20%20%20%20%20%20%20%20%20.addTo%28map_12ad63279060452eafeab4e561748459%29%3B%0A%20%20%20%20%20%20%20%20%20%20%20%20%0A%20%20%20%20%0A%20%20%20%20%20%20%20%20%20%20%20%20var%20popup_4b91e294e82d494dbe235e30fd1822be%20%3D%20L.popup%28%7BmaxWidth%3A%20%27100%25%27%0A%20%20%20%20%20%20%20%20%20%20%20%20%0A%20%20%20%20%20%20%20%20%20%20%20%20%7D%29%3B%0A%0A%20%20%20%20%20%20%20%20%20%20%20%20%0A%20%20%20%20%20%20%20%20%20%20%20%20%20%20%20%20var%20html_a12e93adf17c4397bd4d3613e285ae00%20%3D%20%24%28%60%3Cdiv%20id%3D%22html_a12e93adf17c4397bd4d3613e285ae00%22%20style%3D%22width%3A%20100.0%25%3B%20height%3A%20100.0%25%3B%22%3EDeli%20/%20Bodega%3C/div%3E%60%29%5B0%5D%3B%0A%20%20%20%20%20%20%20%20%20%20%20%20%20%20%20%20popup_4b91e294e82d494dbe235e30fd1822be.setContent%28html_a12e93adf17c4397bd4d3613e285ae00%29%3B%0A%20%20%20%20%20%20%20%20%20%20%20%20%0A%0A%20%20%20%20%20%20%20%20%20%20%20%20circle_marker_4be88b364baf4ef1b6b728f29b37a8d6.bindPopup%28popup_4b91e294e82d494dbe235e30fd1822be%29%0A%20%20%20%20%20%20%20%20%20%20%20%20%3B%0A%0A%20%20%20%20%20%20%20%20%20%20%20%20%0A%20%20%20%20%20%20%20%20%0A%20%20%20%20%0A%20%20%20%20%20%20%20%20%20%20%20%20var%20circle_marker_6fdbec2d608c4ae0ac779a9b99af286b%20%3D%20L.circleMarker%28%0A%20%20%20%20%20%20%20%20%20%20%20%20%20%20%20%20%5B-35.27286551698974%2C%20149.13168489933014%5D%2C%0A%20%20%20%20%20%20%20%20%20%20%20%20%20%20%20%20%7B%0A%20%20%22bubblingMouseEvents%22%3A%20true%2C%0A%20%20%22color%22%3A%20%22blue%22%2C%0A%20%20%22dashArray%22%3A%20null%2C%0A%20%20%22dashOffset%22%3A%20null%2C%0A%20%20%22fill%22%3A%20true%2C%0A%20%20%22fillColor%22%3A%20%22blue%22%2C%0A%20%20%22fillOpacity%22%3A%200.6%2C%0A%20%20%22fillRule%22%3A%20%22evenodd%22%2C%0A%20%20%22lineCap%22%3A%20%22round%22%2C%0A%20%20%22lineJoin%22%3A%20%22round%22%2C%0A%20%20%22opacity%22%3A%201.0%2C%0A%20%20%22radius%22%3A%205%2C%0A%20%20%22stroke%22%3A%20true%2C%0A%20%20%22weight%22%3A%203%0A%7D%0A%20%20%20%20%20%20%20%20%20%20%20%20%20%20%20%20%29%0A%20%20%20%20%20%20%20%20%20%20%20%20%20%20%20%20.addTo%28map_12ad63279060452eafeab4e561748459%29%3B%0A%20%20%20%20%20%20%20%20%20%20%20%20%0A%20%20%20%20%0A%20%20%20%20%20%20%20%20%20%20%20%20var%20popup_a1beff6fdf2042f3a24adbe9155bda7b%20%3D%20L.popup%28%7BmaxWidth%3A%20%27100%25%27%0A%20%20%20%20%20%20%20%20%20%20%20%20%0A%20%20%20%20%20%20%20%20%20%20%20%20%7D%29%3B%0A%0A%20%20%20%20%20%20%20%20%20%20%20%20%0A%20%20%20%20%20%20%20%20%20%20%20%20%20%20%20%20var%20html_99dfb7ebf39b4d8cbabf0dfdcefe2dde%20%3D%20%24%28%60%3Cdiv%20id%3D%22html_99dfb7ebf39b4d8cbabf0dfdcefe2dde%22%20style%3D%22width%3A%20100.0%25%3B%20height%3A%20100.0%25%3B%22%3EItalian%20Restaurant%3C/div%3E%60%29%5B0%5D%3B%0A%20%20%20%20%20%20%20%20%20%20%20%20%20%20%20%20popup_a1beff6fdf2042f3a24adbe9155bda7b.setContent%28html_99dfb7ebf39b4d8cbabf0dfdcefe2dde%29%3B%0A%20%20%20%20%20%20%20%20%20%20%20%20%0A%0A%20%20%20%20%20%20%20%20%20%20%20%20circle_marker_6fdbec2d608c4ae0ac779a9b99af286b.bindPopup%28popup_a1beff6fdf2042f3a24adbe9155bda7b%29%0A%20%20%20%20%20%20%20%20%20%20%20%20%3B%0A%0A%20%20%20%20%20%20%20%20%20%20%20%20%0A%20%20%20%20%20%20%20%20%0A%20%20%20%20%0A%20%20%20%20%20%20%20%20%20%20%20%20var%20circle_marker_8f57d98f112c4d30bbbf467a011a39f1%20%3D%20L.circleMarker%28%0A%20%20%20%20%20%20%20%20%20%20%20%20%20%20%20%20%5B-35.275053579628505%2C%20149.13242342485583%5D%2C%0A%20%20%20%20%20%20%20%20%20%20%20%20%20%20%20%20%7B%0A%20%20%22bubblingMouseEvents%22%3A%20true%2C%0A%20%20%22color%22%3A%20%22blue%22%2C%0A%20%20%22dashArray%22%3A%20null%2C%0A%20%20%22dashOffset%22%3A%20null%2C%0A%20%20%22fill%22%3A%20true%2C%0A%20%20%22fillColor%22%3A%20%22blue%22%2C%0A%20%20%22fillOpacity%22%3A%200.6%2C%0A%20%20%22fillRule%22%3A%20%22evenodd%22%2C%0A%20%20%22lineCap%22%3A%20%22round%22%2C%0A%20%20%22lineJoin%22%3A%20%22round%22%2C%0A%20%20%22opacity%22%3A%201.0%2C%0A%20%20%22radius%22%3A%205%2C%0A%20%20%22stroke%22%3A%20true%2C%0A%20%20%22weight%22%3A%203%0A%7D%0A%20%20%20%20%20%20%20%20%20%20%20%20%20%20%20%20%29%0A%20%20%20%20%20%20%20%20%20%20%20%20%20%20%20%20.addTo%28map_12ad63279060452eafeab4e561748459%29%3B%0A%20%20%20%20%20%20%20%20%20%20%20%20%0A%20%20%20%20%0A%20%20%20%20%20%20%20%20%20%20%20%20var%20popup_337836c08f924a7ab2dd17dd47b7e152%20%3D%20L.popup%28%7BmaxWidth%3A%20%27100%25%27%0A%20%20%20%20%20%20%20%20%20%20%20%20%0A%20%20%20%20%20%20%20%20%20%20%20%20%7D%29%3B%0A%0A%20%20%20%20%20%20%20%20%20%20%20%20%0A%20%20%20%20%20%20%20%20%20%20%20%20%20%20%20%20var%20html_c38dd00cad41494588619be160a457f0%20%3D%20%24%28%60%3Cdiv%20id%3D%22html_c38dd00cad41494588619be160a457f0%22%20style%3D%22width%3A%20100.0%25%3B%20height%3A%20100.0%25%3B%22%3EItalian%20Restaurant%3C/div%3E%60%29%5B0%5D%3B%0A%20%20%20%20%20%20%20%20%20%20%20%20%20%20%20%20popup_337836c08f924a7ab2dd17dd47b7e152.setContent%28html_c38dd00cad41494588619be160a457f0%29%3B%0A%20%20%20%20%20%20%20%20%20%20%20%20%0A%0A%20%20%20%20%20%20%20%20%20%20%20%20circle_marker_8f57d98f112c4d30bbbf467a011a39f1.bindPopup%28popup_337836c08f924a7ab2dd17dd47b7e152%29%0A%20%20%20%20%20%20%20%20%20%20%20%20%3B%0A%0A%20%20%20%20%20%20%20%20%20%20%20%20%0A%20%20%20%20%20%20%20%20%0A%20%20%20%20%0A%20%20%20%20%20%20%20%20%20%20%20%20var%20circle_marker_cc7ac091bb50482e8ddbf11747485492%20%3D%20L.circleMarker%28%0A%20%20%20%20%20%20%20%20%20%20%20%20%20%20%20%20%5B-35.28325228048331%2C%20149.12866037338972%5D%2C%0A%20%20%20%20%20%20%20%20%20%20%20%20%20%20%20%20%7B%0A%20%20%22bubblingMouseEvents%22%3A%20true%2C%0A%20%20%22color%22%3A%20%22blue%22%2C%0A%20%20%22dashArray%22%3A%20null%2C%0A%20%20%22dashOffset%22%3A%20null%2C%0A%20%20%22fill%22%3A%20true%2C%0A%20%20%22fillColor%22%3A%20%22blue%22%2C%0A%20%20%22fillOpacity%22%3A%200.6%2C%0A%20%20%22fillRule%22%3A%20%22evenodd%22%2C%0A%20%20%22lineCap%22%3A%20%22round%22%2C%0A%20%20%22lineJoin%22%3A%20%22round%22%2C%0A%20%20%22opacity%22%3A%201.0%2C%0A%20%20%22radius%22%3A%205%2C%0A%20%20%22stroke%22%3A%20true%2C%0A%20%20%22weight%22%3A%203%0A%7D%0A%20%20%20%20%20%20%20%20%20%20%20%20%20%20%20%20%29%0A%20%20%20%20%20%20%20%20%20%20%20%20%20%20%20%20.addTo%28map_12ad63279060452eafeab4e561748459%29%3B%0A%20%20%20%20%20%20%20%20%20%20%20%20%0A%20%20%20%20%0A%20%20%20%20%20%20%20%20%20%20%20%20var%20popup_fef66bac66bb451ba1da61def0a8dd7f%20%3D%20L.popup%28%7BmaxWidth%3A%20%27100%25%27%0A%20%20%20%20%20%20%20%20%20%20%20%20%0A%20%20%20%20%20%20%20%20%20%20%20%20%7D%29%3B%0A%0A%20%20%20%20%20%20%20%20%20%20%20%20%0A%20%20%20%20%20%20%20%20%20%20%20%20%20%20%20%20var%20html_cea86be7de72434a9ca31d86c62a4ef3%20%3D%20%24%28%60%3Cdiv%20id%3D%22html_cea86be7de72434a9ca31d86c62a4ef3%22%20style%3D%22width%3A%20100.0%25%3B%20height%3A%20100.0%25%3B%22%3EFast%20Food%20Restaurant%3C/div%3E%60%29%5B0%5D%3B%0A%20%20%20%20%20%20%20%20%20%20%20%20%20%20%20%20popup_fef66bac66bb451ba1da61def0a8dd7f.setContent%28html_cea86be7de72434a9ca31d86c62a4ef3%29%3B%0A%20%20%20%20%20%20%20%20%20%20%20%20%0A%0A%20%20%20%20%20%20%20%20%20%20%20%20circle_marker_cc7ac091bb50482e8ddbf11747485492.bindPopup%28popup_fef66bac66bb451ba1da61def0a8dd7f%29%0A%20%20%20%20%20%20%20%20%20%20%20%20%3B%0A%0A%20%20%20%20%20%20%20%20%20%20%20%20%0A%20%20%20%20%20%20%20%20%0A%3C/script%3E onload=\"this.contentDocument.open();this.contentDocument.write(    decodeURIComponent(this.getAttribute('data-html')));this.contentDocument.close();\" allowfullscreen webkitallowfullscreen mozallowfullscreen></iframe></div></div>"
            ],
            "text/plain": [
              "<folium.folium.Map at 0x7f493c983910>"
            ]
          },
          "metadata": {
            "tags": []
          },
          "execution_count": 11
        }
      ]
    }
  ]
}